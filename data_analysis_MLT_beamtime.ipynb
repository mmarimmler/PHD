{
 "cells": [
  {
   "cell_type": "code",
   "execution_count": 5,
   "metadata": {},
   "outputs": [],
   "source": [
    "import pandas as pd\n",
    "from pathlib import Path\n",
    "import sys\n",
    "from datetime import datetime,timedelta\n",
    "import numpy as np\n",
    "import matplotlib.pyplot as plt\n",
    "import pytz\n",
    "\n",
    "#sys.path.insert(0,Path('../archiver-py')) #suddenly not workin (18/07?)\n",
    "sys.path.insert(0,r'C:\\Users\\mrimm\\Desktop\\Code\\archiver-py')\n",
    "from archiver import Archiver"
   ]
  },
  {
   "cell_type": "markdown",
   "metadata": {},
   "source": [
    "## Run numbers, dates, times"
   ]
  },
  {
   "cell_type": "code",
   "execution_count": null,
   "metadata": {},
   "outputs": [],
   "source": [
    "RUNS = {9:['2019-6-25 15:29:00',1800],\n",
    "       10:['2019-6-25 16:04:00',1800],\n",
    "       11:['2019-6-25 16:55:32',1800],\n",
    "       13:['2019-6-25 17:48:00',1800],\n",
    "       14:['2019-6-25 18:51:15',1800],\n",
    "       15:['2019-6-25 19:56:00',1800],\n",
    "       16:['2019-6-26 08:00:00',1800],\n",
    "       17:['2019-6-26 09:04:30',1800],\n",
    "       18:['2019-6-26 09:47:30',1800],\n",
    "       19:['2019-6-26 10:30:00',1800],\n",
    "       20:['2019-6-26 11:42:00',1800],\n",
    "       21:['2019-6-26 12:16:30',1800],\n",
    "       22:['2019-6-26 12:53:30',1800],\n",
    "       23:['2019-6-26 13:27:30',1800],\n",
    "       24:['2019-6-26 15:49:00',1800],\n",
    "       25:['2019-6-26 16:22:10',1800],\n",
    "       26:['2019-6-26 16:58:00',1800],\n",
    "       27:['2019-6-26 17:34:30',1800],\n",
    "       28:['2019-6-26 18:29:30',1800],\n",
    "       29:['2019-6-26 19:34:00',1800],\n",
    "       30:['2019-6-26 20:07:00',1800],\n",
    "       31:['2019-6-26 20:40:00',1800],\n",
    "       32:['2019-6-26 21:32:00',1800],\n",
    "       33:['2019-6-26 22:38:00',1800],\n",
    "       34:['2019-6-26 23:11:00',1800],\n",
    "       35:['2019-6-26 23:44:00',1800],\n",
    "       36:['2019-6-27 00:19:30',1800],\n",
    "       37:['2019-6-27 12:00:40',1800],\n",
    "       38:['2019-6-27 13:06:40',1800],\n",
    "       39:['2019-6-27 14:01:00',1800],\n",
    "       40:['2019-6-27 15:04:30',1800],\n",
    "       41:['2019-6-27 15:41:10',1800],\n",
    "       42:['2019-6-27 17:30:30',1800],\n",
    "       43:['2019-6-27 18:12:00',1800],\n",
    "       44:['2019-6-27 18:47:30',1800],\n",
    "       45:['2019-6-27 19:22:00',3600],\n",
    "       46:['2019-6-27 20:25:30',3600],\n",
    "       47:['2019-6-27 21:31:00',3600],\n",
    "       48:['2019-6-27 21:35:00',3600],\n",
    "       49:['2019-6-27 23:38:10',3600],\n",
    "       50:['2019-6-28 00:43:44',3600],\n",
    "       51:['2019-6-28 01:50:12',3600],\n",
    "        52:['2019-6-28 02:54:40',3600],\n",
    "        53:['2019-6-28 04:03:18',3600],\n",
    "        54:['2019-6-28 05:07:26',3600],\n",
    "        55:['2019-6-28 06:12:21',3600],\n",
    "        56:['2019-6-28 07:25:27',3600],\n",
    "        57:['2019-6-28 08:50:30',3600],\n",
    "        58:['2019-6-28 10:53:30',3600],\n",
    "        59:['2019-6-28 12:25:00',3600],\n",
    "        60:['2019-6-28 13:35:00',3600],\n",
    "        61:['2019-6-28 15:17:30',3600],\n",
    "        62:['2019-6-28 16:27:25',3600],\n",
    "        63:['2019-6-28 17:39:00',3600],\n",
    "        64:['2019-6-28 18:46:00',3600],\n",
    "        65:['2019-6-28 19:49:00',3600],\n",
    "        66:['2019-6-28 23:43:00',3600],\n",
    "        67:['2019-6-29 00:46:00',3600],\n",
    "        68:['2019-6-29 01:50:12',3600],\n",
    "        69:['2019-6-29 03:29:14',3600],\n",
    "        70:['2019-6-29 04:32:00',3600],\n",
    "        71:['2019-6-29 05:48:56',1800],\n",
    "        72:['2019-6-29 06:44:04',3600],\n",
    "        73:['2019-6-29 07:49:30',3600],\n",
    "        74:['2019-6-29 11:52:00',3600],\n",
    "        75:['2019-6-29 13:23:50',3600],\n",
    "        76:['2019-6-29 15:46:00',3600],\n",
    "        77:['2019-6-29 16:58:30',1800],\n",
    "        78:['2019-6-29 18:17:00',3600],\n",
    "        79:['2019-6-29 19:31:00',1800],\n",
    "        80:['2019-6-29 20:28:15',3600],\n",
    "        81:['2019-6-29 21:35:00',1800],\n",
    "        82:['2019-6-29 22:20:00',1800],\n",
    "        83:['2019-6-29 22:55:30',1800],\n",
    "        84:['2019-6-30 00:58:06',3600],\n",
    "        85:['2019-6-30 02:02:32',3600],\n",
    "        86:['2019-6-30 03:42:31',3600],\n",
    "        87:['2019-6-30 04:46:20',3600],\n",
    "        88:['2019-6-30 06:22:12',3600],\n",
    "        89:['2019-6-30 07:29:49',3600],\n",
    "        90:['2019-6-30 11:40:15',3600],\n",
    "        91:['2019-6-30 12:45:50',1800],\n",
    "        92:['2019-6-30 14:08:50',3600],\n",
    "        93:['2019-6-30 15:25:00',3600],\n",
    "        94:['2019-6-30 16:37:35',3600],\n",
    "        96:['2019-6-30 17:51:00',1800],\n",
    "        97:['2019-6-30 19:35:00',1800],\n",
    "        98:['2019-6-30 20:15:00',1800],\n",
    "        99:['2019-6-30 21:00:30',1800],\n",
    "        100:['2019-6-30 21:34:00',1800],\n",
    "        101:['2019-6-30 22:28:00',1800],\n",
    "        102:['2019-6-30 23:04:00',1800],\n",
    "        103:['2019-7-1 00:04:00',1800],\n",
    "        104:['2019-7-1 00:39:30',1800],\n",
    "       }"
   ]
  },
  {
   "cell_type": "markdown",
   "metadata": {},
   "source": [
    "### retrieve data from epics"
   ]
  },
  {
   "cell_type": "markdown",
   "metadata": {},
   "source": [
    "#### save data to csv and create currents dataframe"
   ]
  },
  {
   "cell_type": "code",
   "execution_count": null,
   "metadata": {},
   "outputs": [],
   "source": [
    "PVs = {'target':'COSY:DBLM:03:RP:ADC:A',\n",
    "       'lockin86':'NESP:DIAG:lockin86:MEAN:1',\n",
    "       'lockin56':'NESP:DIAG:lockin56:MEAN:1',\n",
    "       'lockin54':'NESP:DIAG:lockin54:MEAN:1',\n",
    "       'lockin20':'NESP:DIAG:lockin20:MEAN:1',\n",
    "       'lockin58':'NESP:DIAG:lockin58:MEAN:1'}"
   ]
  },
  {
   "cell_type": "code",
   "execution_count": null,
   "metadata": {},
   "outputs": [],
   "source": [
    "archiver = Archiver()\n",
    "\n",
    "data = pd.DataFrame()\n",
    "\n",
    "for pv_no,pv in enumerate(list(PVs.values())):\n",
    "\n",
    "    for run in list(RUNS.keys()):\n",
    "        start = datetime.strptime(RUNS[run][0], '%Y-%m-%d %H:%M:%S').astimezone(pytz.timezone('Europe/Berlin'))\n",
    "        end = datetime.strptime(RUNS[run][0], '%Y-%m-%d %H:%M:%S').astimezone(pytz.timezone('Europe/Berlin'))+timedelta(seconds=RUNS[run][1])\n",
    "\n",
    "        times, values, meta = archiver.downloadScalar(pv, start, end)\n",
    "\n",
    "        dict_temp = {'run':run,'times':times,'signal':values}\n",
    "        df_temp = pd.DataFrame(data=dict_temp)\n",
    "        #df_temp['start'] = times[0]\n",
    "\n",
    "        #data = data.append(df_temp.groupby(['run','start']).agg({'current':['mean','std']}))\n",
    "        \n",
    "        df_temp.to_csv(Path('../../MISC/MLT Beamtime/EPICS data/{}_#{}'.format(list(PVs.keys())[pv_no],run)),index=False)\n",
    "    #currents = data.reset_index()\n",
    "\n",
    "    #currents.to_csv('currents',index=False)\n",
    "\n",
    "\n",
    "    \n",
    "    "
   ]
  },
  {
   "cell_type": "markdown",
   "metadata": {},
   "source": [
    "#### calculate average current for runs in run_list"
   ]
  },
  {
   "cell_type": "code",
   "execution_count": null,
   "metadata": {},
   "outputs": [],
   "source": [
    "run_list = range(90,92)\n",
    "I = currents[currents['run'].isin(run_list)]['current']['mean'].mean()\n",
    "print(I)"
   ]
  },
  {
   "cell_type": "markdown",
   "metadata": {},
   "source": [
    "#### calculate error on average current for runs in run_list"
   ]
  },
  {
   "cell_type": "code",
   "execution_count": null,
   "metadata": {},
   "outputs": [],
   "source": [
    "dI = np.sqrt(currents[currents['run'].isin(run_list)]['current']['std'].apply(lambda x: x**2).sum())/len(run_list)\n",
    "print(dI)"
   ]
  },
  {
   "cell_type": "markdown",
   "metadata": {},
   "source": [
    "#### look at last 5 runs"
   ]
  },
  {
   "cell_type": "code",
   "execution_count": null,
   "metadata": {},
   "outputs": [],
   "source": [
    "currents.tail()"
   ]
  },
  {
   "cell_type": "markdown",
   "metadata": {},
   "source": [
    "#### function for neutron yield calculation and neutron yield error calculation"
   ]
  },
  {
   "cell_type": "code",
   "execution_count": null,
   "metadata": {},
   "outputs": [],
   "source": [
    "def nyield(N_t,LT_t,I_av,dI_av):\n",
    "    \n",
    "    nyield = N_t/LT_t/I_av*1.6e-19/(1.3e-6)\n",
    "    dnyield = nyield*np.sqrt(1/N_t+(dI_av/I_av)**2)\n",
    "    \n",
    "    return nyield, dnyield"
   ]
  },
  {
   "cell_type": "code",
   "execution_count": null,
   "metadata": {},
   "outputs": [],
   "source": [
    "nyield(1.1369e6+5.5435e5,2572+1301,I*1e-9,dI*1e-9)"
   ]
  },
  {
   "cell_type": "code",
   "execution_count": null,
   "metadata": {},
   "outputs": [],
   "source": [
    "0.0137+2*0.0025"
   ]
  },
  {
   "cell_type": "markdown",
   "metadata": {},
   "source": [
    "### calculate the run-(time-) dependence of the relative error on neutron yield for 30 MeV V (small target) runs"
   ]
  },
  {
   "cell_type": "code",
   "execution_count": null,
   "metadata": {},
   "outputs": [],
   "source": [
    "N_run = [1.6322,1.634,1.6219,2.2795,3.2652,3.2499,3.287,3.2662,3.2710,3.2432,3.2485,3.2594,3.2633,3.2494,3.2518,3.2344]\n",
    "\n",
    "\n",
    "N_run = [N*1e5 for N in N_run]\n",
    "\n",
    "\n",
    "dnyield_rel = []\n",
    "times = []\n",
    "\n",
    "for j,i in enumerate(range(42,58)):\n",
    "    \n",
    "    I_i = currents[currents['run'].isin(range(42,i))]['current']['mean'].mean()\n",
    "    dI_i = np.sqrt(currents[currents['run'].isin(range(42,i))]['current']['std'].apply(lambda x: x**2).sum())/len(range(42,i))\n",
    "    \n",
    "    N_acc = sum(N_run[:j+1])\n",
    "    dnyield_i_rel = np.sqrt(1/N_acc+(dI_i/I_i)**2)\n",
    "    \n",
    "    dnyield_rel.append(dnyield_i_rel)\n",
    "    times.append(RUNS[i][1]/60/60)\n",
    "\n",
    "\n",
    "plt.plot(np.cumsum(times),dnyield_rel)\n",
    "plt.xticks(range(len(np.cumsum(times))))\n",
    "plt.title('time-dependence of relative error for 30 MeV V runs')\n",
    "plt.show()\n"
   ]
  },
  {
   "cell_type": "markdown",
   "metadata": {},
   "source": [
    "### look at current data of one run and FFT of current"
   ]
  },
  {
   "cell_type": "code",
   "execution_count": null,
   "metadata": {},
   "outputs": [],
   "source": [
    "# source stable with #17\n",
    "df_test = pd.read_csv(\n",
    "    Path('../../MISC/MLT Beamtime/EPICS data/target_#20'),\n",
    "    header = None, usecols = [1,2],\n",
    "    names = ['time', 'signal'],\n",
    "    skiprows=1\n",
    ")\n",
    "\n",
    "fig,ax = plt.subplots(2,1,figsize=(20,10))\n",
    "df_test.plot(ax=ax[0])\n",
    "\n",
    "fft = np.fft.fft(df_test['signal'].values)\n",
    "freq = np.fft.fftfreq(df_test['signal'].size,d=0.1)\n",
    "ax[1].plot(freq,np.abs(fft))\n",
    "ax[1].set_yscale('log')\n",
    "plt.show()\n",
    "print(np.mean(df_test['signal'].values))\n",
    "print(np.std(df_test['signal'].values))"
   ]
  },
  {
   "cell_type": "code",
   "execution_count": null,
   "metadata": {},
   "outputs": [],
   "source": [
    "pd.read_csv(\n",
    "    Path('../../MISC/MLT Beamtime/EPICS data/target_#104'),\n",
    "    header = None, usecols = [1,2],\n",
    "    names = ['time', 'signal'],\n",
    "    skiprows=1\n",
    ").mean()"
   ]
  },
  {
   "cell_type": "markdown",
   "metadata": {},
   "source": [
    "### MWPC beam profiles during MD"
   ]
  },
  {
   "cell_type": "code",
   "execution_count": null,
   "metadata": {},
   "outputs": [],
   "source": [
    "#focused\n",
    "\n",
    "#45 2019-06-05 17:09:01\n",
    "#40 2019-06-05 18:56:00\n",
    "#30 2019-06-05 19:13:38\n",
    "#20 2019-06-05 19:23:51\n",
    "#10 2019-06-05 19:38:34\n",
    "\n",
    "\n",
    "#not focused\n",
    "\n",
    "#45 2019-06-05 17:03:24\n",
    "#40 2019-06-05 18:53:00\n",
    "#30 2019-06-05 19:10:09\n",
    "#20 2019-06-05 19:20:58\n",
    "#10 2019-06-05 19:34:35"
   ]
  },
  {
   "cell_type": "code",
   "execution_count": 24,
   "metadata": {},
   "outputs": [],
   "source": [
    "mwpc_dict = {'45 MeV optimized': '2019-06-05 17:09:01',\n",
    "            '40 MeV optimized': '2019-06-05 18:56:00',\n",
    "            '30 MeV optimized': '2019-06-05 19:13:38',\n",
    "            '20 MeV optimized': '2019-06-05 19:23:51',\n",
    "            '10 MeV optimized': '2019-06-05 19:38:34',\n",
    "            '45 MeV': '2019-06-05 17:03:24',\n",
    "            '40 MeV': '2019-06-05 18:53:00',\n",
    "            '30 MeV': '2019-06-05 19:10:09',\n",
    "            '20 MeV': '2019-06-05 19:20:58',\n",
    "            '10 MeV': '2019-06-05 19:34:35'}"
   ]
  },
  {
   "cell_type": "code",
   "execution_count": 6,
   "metadata": {},
   "outputs": [],
   "source": [
    "archiver = Archiver()\n",
    "    \n",
    "def get_profile(start,end):\n",
    "    timestampsX,dataX,metaX= archiver.downloadWaveform('EXBL:MWPC:45:Profile:X',start,end)\n",
    "    if len(dataX[0]) < 64:\n",
    "        for k in range(64-len(dataX[0])):\n",
    "            dataX[0]=np.append(dataX[0],0)\n",
    "\n",
    "\n",
    "    timestampsY,dataY,metaY= archiver.downloadWaveform('EXBL:MWPC:45:Profile:Y',start,end)\n",
    "    if len(dataY[0]) < 64:\n",
    "        for j in range(64-len(dataY[0])):\n",
    "            dataY[0]=np.append(dataY[0],0)\n",
    "\n",
    "    return dataX,dataY"
   ]
  },
  {
   "cell_type": "code",
   "execution_count": 8,
   "metadata": {},
   "outputs": [],
   "source": [
    "t_test = '2019-06-05 17:03:24'\n",
    "x_test,y_test = get_profile(datetime.strptime(t_test, '%Y-%m-%d %H:%M:%S'),datetime.strptime(t_test, '%Y-%m-%d %H:%M:%S'))\n"
   ]
  },
  {
   "cell_type": "code",
   "execution_count": 23,
   "metadata": {},
   "outputs": [
    {
     "data": {
      "text/plain": [
       "<matplotlib.collections.PathCollection at 0x2713ab41d30>"
      ]
     },
     "execution_count": 23,
     "metadata": {},
     "output_type": "execute_result"
    },
    {
     "data": {
      "image/png": "[encoded data removed]",
      "text/plain": [
       "<Figure size 432x288 with 1 Axes>"
      ]
     },
     "metadata": {
      "needs_background": "light"
     },
     "output_type": "display_data"
    }
   ],
   "source": [
    "x = np.arange(0,len(x_test[0]))-31.5\n",
    "y = np.arange(0,len(y_test[0]))-31.5\n",
    "plt.scatter(x=x, y=x_test[0]/x_test[0].sum())\n",
    "plt.scatter(x=y, y=y_test[0]/y_test[0].sum())"
   ]
  },
  {
   "cell_type": "code",
   "execution_count": 31,
   "metadata": {},
   "outputs": [
    {
     "data": {
      "text/plain": [
       "array([  0.      ,   0.      ,   0.      ,   0.546875,   0.546875,\n",
       "         0.546875,   1.640625,   1.640625,   2.1875  ,   3.828125,\n",
       "         4.921875,   6.5625  ,   8.75    ,  12.03125 ,  14.765625,\n",
       "        19.140625,  24.0625  ,  30.078125,  36.640625,  43.203125,\n",
       "        50.859375,  59.609375,  69.453125,  76.5625  ,  85.3125  ,\n",
       "        94.0625  , 101.71875 , 107.1875  , 113.203125, 119.765625,\n",
       "       123.046875, 121.40625 , 117.578125, 114.84375 , 108.828125,\n",
       "       101.171875,  92.421875,  84.765625,  74.921875,  65.625   ,\n",
       "        56.875   ,  47.578125,  40.46875 ,  32.8125  ,  26.25    ,\n",
       "        21.328125,  16.953125,  12.578125,   9.296875,   7.109375,\n",
       "         4.921875,   3.28125 ,   2.1875  ,   2.1875  ,   0.      ,\n",
       "         1.09375 ,   0.      ,   0.      ,   0.      ,   0.      ,\n",
       "         0.      ,   0.      ,   0.      ,   0.      ])"
      ]
     },
     "execution_count": 31,
     "metadata": {},
     "output_type": "execute_result"
    }
   ],
   "source": [
    "x_test[0]"
   ]
  },
  {
   "cell_type": "code",
   "execution_count": 33,
   "metadata": {},
   "outputs": [],
   "source": [
    "for i in mwpc_dict.items():\n",
    "    \n",
    "    profiles = get_profile(datetime.strptime(i[1], '%Y-%m-%d %H:%M:%S'),datetime.strptime(i[1], '%Y-%m-%d %H:%M:%S'))\n",
    "    \n",
    "    profiles = profiles[0][0],profiles[1][0]\n",
    "    \n",
    "    np.savetxt(r'C:\\Users\\mrimm\\Desktop\\MISC\\MLT Beamtime\\MWPC Profiles MD\\{}.txt'.format(i[0]),profiles)"
   ]
  },
  {
   "cell_type": "code",
   "execution_count": 64,
   "metadata": {},
   "outputs": [
    {
     "name": "stderr",
     "output_type": "stream",
     "text": [
      "C:\\Users\\mrimm\\Anaconda3\\lib\\site-packages\\ipykernel_launcher.py:8: RuntimeWarning: invalid value encountered in true_divide\n",
      "  \n"
     ]
    },
    {
     "data": {
      "image/png": "[encoded data removed]",
      "text/plain": [
       "<Figure size 360x1800 with 10 Axes>"
      ]
     },
     "metadata": {
      "needs_background": "light"
     },
     "output_type": "display_data"
    }
   ],
   "source": [
    "fig,ax = plt.subplots(len(mwpc_dict.items()),1,figsize=(5,25))\n",
    "\n",
    "for n,i in enumerate(mwpc_dict.items()):\n",
    "    profiles = np.loadtxt(r'C:\\Users\\mrimm\\Desktop\\MISC\\MLT Beamtime\\MWPC Profiles MD\\{}.txt'.format(i[0]))\n",
    "    \n",
    "    x_data = np.arange(0,64)-31.5\n",
    "    \n",
    "    ax[n].scatter(x_data,profiles[0]/profiles[0].sum())\n",
    "    ax[n].scatter(x_data,profiles[1]/profiles[1].sum())\n",
    "    ax[n].set_title(i[0])\n",
    "    \n",
    "plt.subplots_adjust(hspace = 0.5)"
   ]
  }
 ],
 "metadata": {
  "kernelspec": {
   "display_name": "Python 3",
   "language": "python",
   "name": "python3"
  },
  "language_info": {
   "codemirror_mode": {
    "name": "ipython",
    "version": 3
   },
   "file_extension": ".py",
   "mimetype": "text/x-python",
   "name": "python",
   "nbconvert_exporter": "python",
   "pygments_lexer": "ipython3",
   "version": "3.7.3"
  }
 },
 "nbformat": 4,
 "nbformat_minor": 2
}

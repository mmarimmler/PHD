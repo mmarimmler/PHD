{
 "cells": [
  {
   "cell_type": "code",
   "execution_count": 1,
   "metadata": {},
   "outputs": [],
   "source": [
    "%load_ext autoreload\n",
    "%autoreload 2\n",
    "\n",
    "import numpy as np\n",
    "import matplotlib.pyplot as plt\n",
    "import helpers.cusplot as cplt\n",
    "import scipy.optimize as sco\n",
    "import scipy.constants as scc\n",
    "from ionoptics import geometry as geo\n",
    "from ionoptics import beamline as bl\n",
    "import pandas as pd\n",
    "\n",
    "from functools import partial"
   ]
  },
  {
   "cell_type": "markdown",
   "metadata": {},
   "source": [
    "\n",
    "## constants (SI)"
   ]
  },
  {
   "cell_type": "code",
   "execution_count": null,
   "metadata": {},
   "outputs": [],
   "source": [
    "# general\n",
    "c = 299792458\n",
    "m_pr = 938.272 # MeV\n",
    "\n",
    "# kicker\n",
    "brho = 1.23 \n",
    "lgap = 0.1\n",
    "kick_l = 0.5\n",
    "N = 20\n",
    "u0 = 4*np.pi*1e-7\n",
    "\n",
    "l = 3 # dist. kicker-septum\n",
    "\n",
    "# charge distribution\n",
    "sigma = 0.015\n",
    "delta_x_max = 0.01\n",
    "\n",
    "# septum\n",
    "w = 0.005 # 5 mm thickness for DC septum (CERN paper)\n",
    "# assuming infinte extend in y (valid - 100 mm beam tube > 6 sigma)"
   ]
  },
  {
   "cell_type": "code",
   "execution_count": null,
   "metadata": {},
   "outputs": [],
   "source": [
    "# numeric integration of current fraction \n",
    "# incident on septum\n",
    "d = {}\n",
    "\n",
    "for delta_x in np.linspace(0,delta_x_max,10):\n",
    "    I = 0\n",
    "    for step in np.linspace(2*sigma-w/2, 2*sigma + w/2,10):\n",
    "        I += np.exp(-(step-delta_x)**2/(2*sigma**2))*w/10\n",
    "    \n",
    "    I_norm = 1/(np.sqrt(2*np.pi)*sigma)*I\n",
    "    \n",
    "    d[delta_x] = I_norm"
   ]
  },
  {
   "cell_type": "code",
   "execution_count": null,
   "metadata": {},
   "outputs": [],
   "source": [
    "fig = plt.figure()\n",
    "ax = fig.add_subplot(111)\n",
    "\n",
    "ax.plot(*zip(*sorted(d.items())))\n",
    "ax.set_xlabel('delta x [m]')\n",
    "ax.set_ylabel('fraction')\n",
    "\n",
    "ax.set_title('int. fraction on {} mm septum'.format(w*1e3))\n",
    "\n",
    "#convert spat. to curr_off\n",
    "def dx_to_dI(dx):\n",
    "    dThet = dx/l\n",
    "    dI = brho*lgap/(u0*kick_l*N)*dThet\n",
    "    return round(dI,3)\n",
    "\n",
    "cplt.add_axis(ax, 'x', dx_to_dI, 'delta I [A]' )\n",
    "\n",
    "plt.show()"
   ]
  },
  {
   "cell_type": "markdown",
   "metadata": {},
   "source": [
    "## el. vs. magn. field"
   ]
  },
  {
   "cell_type": "code",
   "execution_count": null,
   "metadata": {},
   "outputs": [],
   "source": [
    "# integrated B-field / E-field norm. to kick angle\n",
    "M = 1 # 1:MeV, 1e-3: keV, ...\n",
    "\n",
    "T = np.arange(0,100,10)* M# MeV\n",
    "p = np.sqrt(T**2+2*T*m_pr) # MeV\n",
    "\n",
    "mag = p*1e-3/0.3 * M\n",
    "\n",
    "el = p/m_pr*c*p*1e-3/0.3 * M\n",
    "\n",
    "ax = plt.gca()\n",
    "ax.set_xlabel(r'$E$ [MeV]')\n",
    "ax.set_xticks(T)\n",
    "ax.set_ylabel(r'$BL/\\Theta$ [Tm/rad]')\n",
    "ax.set_title('electric vs. magnetic field')\n",
    "ax1 = ax.twinx()\n",
    "ax1.set_ylabel(r'$EL/\\Theta$ [V/rad]')\n",
    "ax1.spines['right'].set_color('r')\n",
    "\n",
    "ax.plot(T,mag)\n",
    "ax1.plot(T,el, c = 'r')\n",
    "ax.legend(['int., norm. B-field'], loc = 2)\n",
    "ax1.legend(['int., norm. E-field'], loc = 4)\n",
    "\n",
    "plt.savefig('/home/marius/Jülich/Multiplexer/Plots/elvsmagn')\n",
    "plt.show()"
   ]
  },
  {
   "cell_type": "markdown",
   "metadata": {},
   "source": [
    "## beam tube induction - paper"
   ]
  },
  {
   "cell_type": "code",
   "execution_count": null,
   "metadata": {},
   "outputs": [],
   "source": [
    "def B(t,f,tau,B0):\n",
    "    w = 2*np.pi*f\n",
    "    \n",
    "    t0 = np.pi/w\n",
    "    \n",
    "    C1 = w*tau\n",
    "    \n",
    "    tleq = np.asarray([time for time in t if time <= t0])\n",
    "    tgeq = np.asarray([time for time in t if time >= t0])\n",
    "    \n",
    "    Bleq = B0*(1/np.sqrt(1+C1**2)*np.sin(w*tleq-np.arctan(w*tau))+C1/(1+C1**2)*np.exp(-tleq/tau))\n",
    "    Bgeq = B0*C1/(1+C1**2)*(1+np.exp(t0/tau))*np.exp(-tgeq/tau)\n",
    "    \n",
    "    return np.append(Bleq,Bgeq)"
   ]
  },
  {
   "cell_type": "code",
   "execution_count": null,
   "metadata": {},
   "outputs": [],
   "source": [
    "sigma = 1.33e6 # S/m\n",
    "a = 65e-3/2 # inner radius\n",
    "d = 5e-3 # beam tube thickness\n",
    "\n",
    "tau = scc.mu_0*sigma*a*d/2\n",
    "\n",
    "fig,ax = plt.subplots(5,1,figsize = (5,20))\n",
    "\n",
    "for i,f in enumerate([1e2,5e2,1e3,5e3,10e3]):\n",
    "\n",
    "    w = 2*np.pi*f\n",
    "    \n",
    "    t0 = np.pi/w\n",
    "\n",
    "    t = np.linspace(0,5*t0,1000)\n",
    "    tleq = np.asarray([time for time in t if time <= t0])\n",
    "    \n",
    "    ax[i].plot(t,B(t,f,tau,50e-3))\n",
    "    ax[i].plot(tleq,50e-3*np.sin(w*tleq))\n",
    "    ax[i].text(0,0,'{:.2e}'.format(B(t,f,tau,50e-3).max()))\n",
    "    ax[i].set_title('{:.1e}'.format(f))\n",
    "    \n",
    "\n",
    "PATH_TO_DATA = '../../Misc/'\n",
    "FILENAME = 'beam_induction_sine_circular tube_{:.2e}_{:.2e}_{:.2e}'.format(sigma,a,d)\n",
    "plt.savefig(PATH_TO_DATA + FILENAME, format = 'png', dpi=900)"
   ]
  },
  {
   "cell_type": "code",
   "execution_count": null,
   "metadata": {},
   "outputs": [],
   "source": [
    "# from paper\n",
    "t = np.linspace(0,7e-6,100)\n",
    "plt.plot(t,B(t,0.125e6,1e-6,1))"
   ]
  },
  {
   "cell_type": "markdown",
   "metadata": {},
   "source": [
    "## testing point-to-parallel w/ 7 quadrupoles (IBL - 1st section)"
   ]
  },
  {
   "cell_type": "code",
   "execution_count": null,
   "metadata": {},
   "outputs": [],
   "source": [
    "# distances\n",
    "\n",
    "# point - to - parallel: M11 = 0, M33 = 0\n",
    "\n",
    "# l1 - L_Fe - l1 - L_Fe - l1,l3,l1 - L_Fe - l2 - L_Fe - l2 - L_Fe - l1,l3,l1 - L_Fe - l1 - L_Fe - l1\n",
    "\n",
    "L_Fe = 0.3\n",
    "l1 = 0.3\n",
    "l2 = 0.5\n",
    "l3 = 0.97\n",
    "\n",
    "# l1,l3,l1\n",
    "l4 = 2*l1+l3\n",
    "\n",
    "l5 = l1+l3\n",
    "\n",
    "#TODO: need bl functions"
   ]
  },
  {
   "cell_type": "code",
   "execution_count": null,
   "metadata": {},
   "outputs": [],
   "source": [
    "# 7 quads Benat\n",
    "k0,k1,k2,k3 = 0.286,1.697,2.442,5.275"
   ]
  },
  {
   "cell_type": "code",
   "execution_count": null,
   "metadata": {},
   "outputs": [],
   "source": [
    "lengths = [l1,L_Fe,l1,L_Fe,l1,l3,l1,L_Fe,l2,L_Fe,l2,L_Fe,l1,l3,l1,L_Fe,l1,L_Fe,l1]\n",
    "elements = [bl.drift,bl.qdf,bl.drift,bl.qf,bl.drift,\n",
    "            partial(bl.dipole, L_max = 0.97, alpha = 0.67, beta_s=0.18,beta_e=0.18),\n",
    "            bl.drift,bl.qdf,bl.drift,bl.qf,bl.drift,bl.qdf,bl.drift,\n",
    "            partial(bl.dipole, L_max = 0.97, alpha = 0.67, beta_s=0.18,beta_e=0.18),\n",
    "            bl.drift,bl.qf,bl.drift,bl.qdf,bl.drift]"
   ]
  },
  {
   "cell_type": "code",
   "execution_count": null,
   "metadata": {},
   "outputs": [],
   "source": [
    "elements = bl.eles_to_peles(elements,bl.opt_quad_mult(elements,lengths),S=True)\n",
    "bl.plot_M_vs_s(elements,lengths, figsize = (15,5))\n",
    "\n",
    "\n",
    "\n",
    "plt.show()"
   ]
  },
  {
   "cell_type": "code",
   "execution_count": null,
   "metadata": {},
   "outputs": [],
   "source": [
    "bl.opt_quad_mult(elements,lengths)"
   ]
  },
  {
   "cell_type": "markdown",
   "metadata": {},
   "source": [
    "## calculating transp. M at NESP"
   ]
  },
  {
   "cell_type": "code",
   "execution_count": 9,
   "metadata": {},
   "outputs": [],
   "source": [
    "# l1 - L_Fe - l1 - L_Fe - l1,l3,l1 - L_Fe - l2 - L_Fe - l2 - L_Fe - l1,l3 - l4 - L_Fe_N - l5 - L_Fe_N\n",
    "\n",
    "L_Fe = 0.3\n",
    "L_Fe_N = 0.225\n",
    "l1 = 0.3\n",
    "l2 = 0.5\n",
    "l3 = 0.97\n",
    "\n",
    "l4 = 4.8\n",
    "l5 = 0.9\n"
   ]
  },
  {
   "cell_type": "code",
   "execution_count": 11,
   "metadata": {},
   "outputs": [
    {
     "name": "stdout",
     "output_type": "stream",
     "text": [
      "[[-6.00978524  5.54835061  0.          0.          0.          6.6652901 ]\n",
      " [-0.60642674  0.39346967  0.          0.          0.          0.66032386]\n",
      " [ 0.          0.          3.52642596  9.5368874   0.          0.        ]\n",
      " [ 0.          0.          0.15384522  0.69963317  0.          0.        ]\n",
      " [-0.07360561 -1.04111879  0.          0.          1.         12.01903941]\n",
      " [ 0.          0.          0.          0.          0.          1.        ]]\n"
     ]
    }
   ],
   "source": [
    "lengths = [l1,L_Fe,l1,L_Fe,l1,l3,l1,L_Fe,l2,L_Fe,l2,L_Fe,l1,l3,l4,L_Fe_N,l5,L_Fe_N]\n",
    "elements = [bl.drift,\n",
    "            partial(bl.q, k = 2),\n",
    "            bl.drift,\n",
    "            bl.drift,\n",
    "            bl.drift,\n",
    "            partial(bl.dipole, L_max = 0.97, alpha = 0.67, beta_s=0.18, beta_e=0.18),\n",
    "            bl.drift,\n",
    "            bl.drift,\n",
    "            bl.drift,\n",
    "            bl.drift,\n",
    "            bl.drift,\n",
    "            bl.drift,\n",
    "            bl.drift,\n",
    "            bl.drift,\n",
    "            bl.drift,\n",
    "            bl.drift,\n",
    "            bl.drift,\n",
    "            bl.drift,\n",
    "            bl.drift]\n",
    "\n",
    "beamline = [ele(length) for ele,length in zip(elements,lengths)]\n",
    "\n",
    "print(bl.bl(beamline))"
   ]
  },
  {
   "cell_type": "code",
   "execution_count": 14,
   "metadata": {},
   "outputs": [],
   "source": [
    "# x_0 from slit scan [cm] [rad]\n",
    "\n",
    "x = np.array([0.418,0.010,0.451,0.005,0,8e-4])"
   ]
  },
  {
   "cell_type": "markdown",
   "metadata": {},
   "source": [
    "## Matrix inverse BK drift"
   ]
  },
  {
   "cell_type": "code",
   "execution_count": null,
   "metadata": {},
   "outputs": [],
   "source": [
    "def prop_twiss(trans,twiss_start,d):\n",
    "    \n",
    "    twiss_trans_x = np.array([[trans[0,0]**2, -2*trans[0,1]*trans[0,0], trans[0,1]**2],\n",
    "                        [-trans[0,0]*trans[1,0], trans[1,1]*trans[0,0]+trans[0,1]*trans[1,0], -trans[0,1]*trans[1,1]],\n",
    "                        [trans[1,0]**2, -2*trans[1,1]*trans[1,0], trans[1,1]**2]])\n",
    "\n",
    "    twiss_trans_y = np.array([[trans[2,2]**2, -2*trans[2,3]*trans[2,2], trans[2,3]**2],\n",
    "                        [-trans[2,2]*trans[3,2], trans[3,3]*trans[2,2]+trans[2,3]*trans[3,2], -trans[2,3]*trans[3,3]],\n",
    "                        [trans[3,2]**2, -2*trans[3,3]*trans[3,2], trans[3,3]**2]])\n",
    "    \n",
    "    twiss_inv_x = np.linalg.inv(twiss_trans_x)\n",
    "    twiss_inv_y = np.linalg.inv(twiss_trans_y)\n",
    "    \n",
    "    if d == 'forward':\n",
    "        final = (np.dot(twiss_trans_x,twiss_start[0]),np.dot(twiss_trans_y,twiss_start[1]))\n",
    "    elif d == 'backward':\n",
    "        final = (np.dot(twiss_inv_x,twiss_start[0]),np.dot(twiss_inv_y,twiss_start[1]))\n",
    "        \n",
    "    return final\n",
    "    "
   ]
  },
  {
   "cell_type": "code",
   "execution_count": null,
   "metadata": {},
   "outputs": [],
   "source": [
    "Cyk_QN2 = np.array([[-1.1848, 7.3201, 0, 0, 0, 6.6384],\n",
    "                 [-0.2166, 0.4942, 0, 0, 0, 0.6581],\n",
    "                 [0, 0, -1.2521, 7.1530, 0, 0],\n",
    "                 [0, 0, -0.2224, 0.4718, 0, 0],\n",
    "                 [-0.6581, -1.5369, 0, 0, 1, 11.2616],\n",
    "                 [0, 0, 0, 0, 0, 1]])\n",
    "\n",
    "QN1_QN2 = np.array([[1, 1.125, 0, 0, 0, 0],\n",
    "                     [0, 1, 0, 0, 0, 0],\n",
    "                     [0, 0, 1, 1.125, 0, 0],\n",
    "                     [0, 0, 0, 1, 0, 0],\n",
    "                     [0, 0, 0, 0, 1, 1.0244],\n",
    "                     [0, 0, 0, 0, 0, 1]])"
   ]
  },
  {
   "cell_type": "code",
   "execution_count": null,
   "metadata": {},
   "outputs": [],
   "source": [
    "Cyk_QN2"
   ]
  },
  {
   "cell_type": "code",
   "execution_count": null,
   "metadata": {},
   "outputs": [],
   "source": [
    "twiss_QN2 = (np.array([[50],[1.8],[2.2]]),np.array([[50],[0.2],[0.8]]))\n",
    "twiss_start_slit = (np.array([[0.6],[-0.58],[2.1]]),np.array([[1.93],[0.38],[0.6]]))"
   ]
  },
  {
   "cell_type": "code",
   "execution_count": null,
   "metadata": {},
   "outputs": [],
   "source": [
    "prop_twiss(Cyk_QN2,twiss_QN2,d='backward')"
   ]
  },
  {
   "cell_type": "code",
   "execution_count": null,
   "metadata": {},
   "outputs": [],
   "source": [
    "prop_twiss(QN1_QN2,twiss_QN2,d='backward')"
   ]
  },
  {
   "cell_type": "markdown",
   "metadata": {},
   "source": [
    "### build sigma matrix and propagate"
   ]
  },
  {
   "cell_type": "code",
   "execution_count": null,
   "metadata": {},
   "outputs": [],
   "source": [
    "eps_x = 18.8e-6\n",
    "eps_y = 13.2e-6\n",
    "\n",
    "beta = np.array([0.6,1.93])\n",
    "alpha = np.array([-0.58,0.38])\n",
    "gamma = np.array([2.1,0.6])\n",
    "\n",
    "beta_q = np.array([2,1.26])\n",
    "alpha_q = np.array([1.8,0.2])\n",
    "gamma_q = np.array([2.2,0.8])\n",
    "\n"
   ]
  },
  {
   "cell_type": "code",
   "execution_count": null,
   "metadata": {},
   "outputs": [],
   "source": [
    "sig_0 = np.array([[eps_x*beta[0],-alpha[0]*eps_x,0,0,0,0],\n",
    "                 [-alpha[0]*eps_x,eps_x*gamma[0],0,0,0,0],\n",
    "                 [0,0,eps_y*beta[1],-alpha[1]*eps_y,0,0],\n",
    "                 [0,0,-alpha[1]*eps_y,eps_y*gamma[1],0,0],\n",
    "                 [0,0,0,0,0,0],\n",
    "                 [0,0,0,0,0,0]])\n",
    "\n",
    "sig_1_meas = np.array([[eps_x*beta_q[0],-alpha_q[0]*eps_x,0,0,0,0],\n",
    "                 [-alpha_q[0]*eps_x,eps_x*gamma_q[0],0,0,0,0],\n",
    "                 [0,0,eps_y*beta_q[1],-alpha_q[1]*eps_y,0,0],\n",
    "                 [0,0,-alpha_q[1]*eps_y,eps_y*gamma_q[1],0,0],\n",
    "                 [0,0,0,0,0,0],\n",
    "                 [0,0,0,0,0,0]])"
   ]
  },
  {
   "cell_type": "code",
   "execution_count": null,
   "metadata": {},
   "outputs": [],
   "source": [
    "def calc_sigma_1(R,sigma_0,sigma_26):\n",
    "    \n",
    "    sigma_0[1][5] = sigma_26\n",
    "    \n",
    "    return np.dot(R,np.dot(sigma_0,R.transpose()))\n",
    "\n",
    "def opt_26(R,sigma_0,sigma_1_meas,sigma_26_init):\n",
    "    \n",
    "    sigma_0_part = partial(calc_sigma_1, R = R, sigma_0 = sigma_0)\n",
    "\n",
    "    def residual(sigma_26):\n",
    "    \n",
    "        sigma_1 = sigma_0_part(sigma_26 = sigma_26)\n",
    "        \n",
    "        res = np.abs(sigma_1[0][0] - sigma_1_meas[0][0]) + np.abs(sigma_1[0][1] - sigma_1_meas[0][1]) + \\\n",
    "        np.abs(sigma_1[1][1] - sigma_1_meas[1][1]) + np.abs(sigma_1[1][0] - sigma_1_meas[1][0]) + \\\n",
    "        np.abs(sigma_1[2][2] - sigma_1_meas[2][2]) + np.abs(sigma_1[2][3] - sigma_1_meas[2][3]) + \\\n",
    "        np.abs(sigma_1[3][3] - sigma_1_meas[3][3]) + np.abs(sigma_1[3][2] - sigma_1_meas[3][2])\n",
    "        \n",
    "        return res\n",
    "    \n",
    "    return sco.minimize(residual, sigma_26_init,tol=1e-3)\n",
    "\n",
    " "
   ]
  },
  {
   "cell_type": "code",
   "execution_count": null,
   "metadata": {},
   "outputs": [],
   "source": [
    "opt = opt_26(Cyk_QN2,sig_0,sig_1_meas,0)\n",
    "opt.x"
   ]
  },
  {
   "cell_type": "code",
   "execution_count": null,
   "metadata": {},
   "outputs": [],
   "source": [
    "test = calc_sigma_1(Cyk_QN2,sig_0,opt.x)\n"
   ]
  },
  {
   "cell_type": "code",
   "execution_count": null,
   "metadata": {},
   "outputs": [],
   "source": [
    "test"
   ]
  },
  {
   "cell_type": "code",
   "execution_count": null,
   "metadata": {},
   "outputs": [],
   "source": [
    "print(sig_1_meas)"
   ]
  },
  {
   "cell_type": "code",
   "execution_count": null,
   "metadata": {},
   "outputs": [],
   "source": []
  }
 ],
 "metadata": {
  "kernelspec": {
   "display_name": "Python 3",
   "language": "python",
   "name": "python3"
  },
  "language_info": {
   "codemirror_mode": {
    "name": "ipython",
    "version": 3
   },
   "file_extension": ".py",
   "mimetype": "text/x-python",
   "name": "python",
   "nbconvert_exporter": "python",
   "pygments_lexer": "ipython3",
   "version": "3.5.3"
  }
 },
 "nbformat": 4,
 "nbformat_minor": 2
}

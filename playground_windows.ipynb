{
 "cells": [
  {
   "cell_type": "code",
   "execution_count": 2,
   "metadata": {},
   "outputs": [
    {
     "name": "stdout",
     "output_type": "stream",
     "text": [
      "The autoreload extension is already loaded. To reload it, use:\n",
      "  %reload_ext autoreload\n"
     ]
    }
   ],
   "source": [
    "%load_ext autoreload\n",
    "%autoreload 2\n",
    "\n",
    "import numpy as np\n",
    "import matplotlib.pyplot as plt\n",
    "import pandas as pd\n",
    "from datetime import datetime,timedelta\n",
    "import helpers.cusplot as cplt\n",
    "import scipy.optimize as sco\n",
    "import scipy.constants as scc\n",
    "from ionoptics import geometry as geo\n",
    "from ionoptics import beamline as bl\n",
    "\n",
    "from functools import partial\n",
    "import scipy.signal as ss"
   ]
  },
  {
   "cell_type": "markdown",
   "metadata": {},
   "source": [
    "\n",
    "## constants (SI)"
   ]
  },
  {
   "cell_type": "code",
   "execution_count": null,
   "metadata": {},
   "outputs": [],
   "source": [
    "# general\n",
    "c = 299792458\n",
    "m_pr = 938.272 # MeV\n",
    "\n",
    "# kicker\n",
    "brho = 1.23 \n",
    "lgap = 0.1\n",
    "kick_l = 0.5\n",
    "N = 20\n",
    "u0 = 4*np.pi*1e-7\n",
    "\n",
    "l = 3 # dist. kicker-septum\n",
    "\n",
    "# charge distribution\n",
    "sigma = 0.015\n",
    "delta_x_max = 0.01\n",
    "\n",
    "# septum\n",
    "w = 0.005 # 5 mm thickness for DC septum (CERN paper)\n",
    "# assuming infinte extend in y (valid - 100 mm beam tube > 6 sigma)"
   ]
  },
  {
   "cell_type": "code",
   "execution_count": null,
   "metadata": {},
   "outputs": [],
   "source": [
    "# numeric integration of current fraction \n",
    "# incident on septum\n",
    "d = {}\n",
    "\n",
    "for delta_x in np.linspace(0,delta_x_max,10):\n",
    "    I = 0\n",
    "    for step in np.linspace(2*sigma-w/2, 2*sigma + w/2,10):\n",
    "        I += np.exp(-(step-delta_x)**2/(2*sigma**2))*w/10\n",
    "    \n",
    "    I_norm = 1/(np.sqrt(2*np.pi)*sigma)*I\n",
    "    \n",
    "    d[delta_x] = I_norm"
   ]
  },
  {
   "cell_type": "code",
   "execution_count": null,
   "metadata": {},
   "outputs": [],
   "source": [
    "fig = plt.figure()\n",
    "ax = fig.add_subplot(111)\n",
    "\n",
    "ax.plot(*zip(*sorted(d.items())))\n",
    "ax.set_xlabel('delta x [m]')\n",
    "ax.set_ylabel('fraction')\n",
    "\n",
    "ax.set_title('int. fraction on {} mm septum'.format(w*1e3))\n",
    "\n",
    "#convert spat. to curr_off\n",
    "def dx_to_dI(dx):\n",
    "    dThet = dx/l\n",
    "    dI = brho*lgap/(u0*kick_l*N)*dThet\n",
    "    return round(dI,3)\n",
    "\n",
    "cplt.add_axis(ax, 'x', dx_to_dI, 'delta I [A]' )\n",
    "\n",
    "plt.show()"
   ]
  },
  {
   "cell_type": "markdown",
   "metadata": {},
   "source": [
    "## el. vs. magn. field"
   ]
  },
  {
   "cell_type": "code",
   "execution_count": null,
   "metadata": {},
   "outputs": [],
   "source": [
    "# integrated B-field / E-field norm. to kick angle\n",
    "M = 1 # 1:MeV, 1e-3: keV, ...\n",
    "\n",
    "T = np.arange(0,100,10)* M# MeV\n",
    "p = np.sqrt(T**2+2*T*m_pr) # MeV\n",
    "\n",
    "mag = p*1e-3/0.3 * M\n",
    "\n",
    "el = p/m_pr*c*p*1e-3/0.3 * M\n",
    "\n",
    "ax = plt.gca()\n",
    "ax.set_xlabel(r'$E$ [MeV]')\n",
    "ax.set_xticks(T)\n",
    "ax.set_ylabel(r'$BL/\\Theta$ [Tm/rad]')\n",
    "ax.set_title('electric vs. magnetic field')\n",
    "ax1 = ax.twinx()\n",
    "ax1.set_ylabel(r'$EL/\\Theta$ [V/rad]')\n",
    "ax1.spines['right'].set_color('r')\n",
    "\n",
    "ax.plot(T,mag)\n",
    "ax1.plot(T,el, c = 'r')\n",
    "ax.legend(['int., norm. B-field'], loc = 2)\n",
    "ax1.legend(['int., norm. E-field'], loc = 4)\n",
    "\n",
    "plt.savefig('/home/marius/Jülich/Multiplexer/Plots/elvsmagn')\n",
    "plt.show()"
   ]
  },
  {
   "cell_type": "markdown",
   "metadata": {},
   "source": [
    "## beam tube induction - paper"
   ]
  },
  {
   "cell_type": "code",
   "execution_count": null,
   "metadata": {},
   "outputs": [],
   "source": [
    "def B(t,f,tau,B0):\n",
    "    w = 2*np.pi*f\n",
    "    \n",
    "    t0 = np.pi/w\n",
    "    \n",
    "    C1 = w*tau\n",
    "    \n",
    "    tleq = np.asarray([time for time in t if time <= t0])\n",
    "    tgeq = np.asarray([time for time in t if time >= t0])\n",
    "    \n",
    "    Bleq = B0*(1/np.sqrt(1+C1**2)*np.sin(w*tleq-np.arctan(w*tau))+C1/(1+C1**2)*np.exp(-tleq/tau))\n",
    "    Bgeq = B0*C1/(1+C1**2)*(1+np.exp(t0/tau))*np.exp(-tgeq/tau)\n",
    "    \n",
    "    return np.append(Bleq,Bgeq)"
   ]
  },
  {
   "cell_type": "code",
   "execution_count": null,
   "metadata": {},
   "outputs": [],
   "source": [
    "sigma = 1.33e6 # S/m\n",
    "a = 65e-3/2 # inner radius\n",
    "d = 5e-3 # beam tube thickness\n",
    "\n",
    "tau = scc.mu_0*sigma*a*d/2\n",
    "\n",
    "fig,ax = plt.subplots(5,1,figsize = (5,20))\n",
    "\n",
    "for i,f in enumerate([1e2,5e2,1e3,5e3,10e3]):\n",
    "\n",
    "    w = 2*np.pi*f\n",
    "    \n",
    "    t0 = np.pi/w\n",
    "\n",
    "    t = np.linspace(0,5*t0,1000)\n",
    "    tleq = np.asarray([time for time in t if time <= t0])\n",
    "    \n",
    "    ax[i].plot(t,B(t,f,tau,50e-3))\n",
    "    ax[i].plot(tleq,50e-3*np.sin(w*tleq))\n",
    "    ax[i].text(0,0,'{:.2e}'.format(B(t,f,tau,50e-3).max()))\n",
    "    ax[i].set_title('{:.1e}'.format(f))\n",
    "    \n",
    "\n",
    "PATH_TO_DATA = '../../Misc/'\n",
    "FILENAME = 'beam_induction_sine_circular tube_{:.2e}_{:.2e}_{:.2e}'.format(sigma,a,d)\n",
    "plt.savefig(PATH_TO_DATA + FILENAME, format = 'png', dpi=900)"
   ]
  },
  {
   "cell_type": "code",
   "execution_count": null,
   "metadata": {},
   "outputs": [],
   "source": [
    "# from paper\n",
    "t = np.linspace(0,7e-6,100)\n",
    "plt.plot(t,B(t,0.125e6,1e-6,1))"
   ]
  },
  {
   "cell_type": "markdown",
   "metadata": {},
   "source": [
    "## testing point-to-parallel w/ 7 quadrupoles (IBL - 1st section)"
   ]
  },
  {
   "cell_type": "code",
   "execution_count": 2,
   "metadata": {},
   "outputs": [],
   "source": [
    "# distances\n",
    "\n",
    "# point - to - parallel: M11 = 0, M33 = 0\n",
    "\n",
    "# l1 - L_Fe - l1 - L_Fe - l1,l3,l1 - L_Fe - l2 - L_Fe - l2 - L_Fe - l1,l3,l1 - L_Fe - l1 - L_Fe - l1\n",
    "\n",
    "L_Fe = 0.3\n",
    "l1 = 0.3\n",
    "l2 = 0.5\n",
    "l3 = 0.97\n",
    "\n",
    "# l1,l3,l1\n",
    "l4 = 2*l1+l3\n",
    "\n",
    "l5 = l1+l3\n",
    "\n",
    "#TODO: need bl functions"
   ]
  },
  {
   "cell_type": "code",
   "execution_count": 7,
   "metadata": {},
   "outputs": [],
   "source": [
    "# 7 quads Benat\n",
    "k0,k1,k2,k3 = 0.286,1.697,2.442,5.275"
   ]
  },
  {
   "cell_type": "code",
   "execution_count": 6,
   "metadata": {},
   "outputs": [],
   "source": [
    "lengths = [l1,L_Fe,l1,L_Fe,l1,l3,l1,L_Fe,l2,L_Fe,l2,L_Fe,l1,l3,l1,L_Fe,l1,L_Fe,l1]\n",
    "elements = [bl.drift,bl.qdf,bl.drift,bl.qf,bl.drift,\n",
    "            partial(bl.dipole, L_max = 0.97, alpha = 0.67, beta_s=0.18,beta_e=0.18),\n",
    "            bl.drift,bl.qdf,bl.drift,bl.qf,bl.drift,bl.qdf,bl.drift,\n",
    "            partial(bl.dipole, L_max = 0.97, alpha = 0.67, beta_s=0.18,beta_e=0.18),\n",
    "            bl.drift,bl.qf,bl.drift,bl.qdf,bl.drift]"
   ]
  },
  {
   "cell_type": "code",
   "execution_count": 4,
   "metadata": {},
   "outputs": [
    {
     "data": {
      "image/png": "[encoded data removed]",
      "text/plain": [
       "<Figure size 1080x360 with 2 Axes>"
      ]
     },
     "metadata": {
      "needs_background": "light"
     },
     "output_type": "display_data"
    }
   ],
   "source": [
    "elements = bl.eles_to_peles(elements,bl.opt_quad_mult(elements,lengths),S=True)\n",
    "bl.plot_M_vs_s(elements,lengths, figsize = (15,5))\n",
    "\n",
    "\n",
    "\n",
    "plt.show()"
   ]
  },
  {
   "cell_type": "code",
   "execution_count": 7,
   "metadata": {},
   "outputs": [
    {
     "data": {
      "text/plain": [
       "array([2.1178545 , 2.59995479, 2.21822665, 3.16598974])"
      ]
     },
     "execution_count": 7,
     "metadata": {},
     "output_type": "execute_result"
    }
   ],
   "source": [
    "bl.opt_quad_mult(elements,lengths)"
   ]
  },
  {
   "cell_type": "markdown",
   "metadata": {},
   "source": [
    "## testing point-to-parallel w/ NESP"
   ]
  },
  {
   "cell_type": "code",
   "execution_count": 2,
   "metadata": {},
   "outputs": [],
   "source": [
    "# distances\n",
    "\n",
    "# point - to - parallel: M11 = 0, M33 = 0\n",
    "\n",
    "# l1 - L_Fe - l1 - L_Fe - l1,l3,l1 - L_Fe - l2 - L_Fe - l2 - L_Fe - l1,l3 - l4 - L_Fe - l5 - L_Fe - l6\n",
    "\n",
    "L_Fe = 0.3\n",
    "l1 = 0.3\n",
    "l2 = 0.5\n",
    "l3 = 0.97\n",
    "\n",
    "l4 = 4.8\n",
    "l5 = 0.9\n",
    "l6 = 1.4+0.9"
   ]
  },
  {
   "cell_type": "code",
   "execution_count": 5,
   "metadata": {},
   "outputs": [
    {
     "data": {
      "text/plain": [
       "array([2.20181443, 1.95877208, 2.10294043, 2.03020143, 2.09390808,\n",
       "       1.82750886, 2.67880366])"
      ]
     },
     "execution_count": 5,
     "metadata": {},
     "output_type": "execute_result"
    }
   ],
   "source": [
    "lengths = [l1,L_Fe,l1,L_Fe,l1,l3,l1,L_Fe,l2,L_Fe,l2,L_Fe,l1,l3,l4,L_Fe,l5,L_Fe,l6]\n",
    "elements = [bl.drift,bl.qdf,bl.drift,bl.qf,bl.drift,\n",
    "            partial(bl.dipole, L_max = 0.97, alpha = 0.67, beta_s=0.18, beta_e=0.18),\n",
    "            bl.drift,bl.qdf,bl.drift,bl.qf,bl.drift,bl.qdf,bl.drift,\n",
    "            bl.drift,\n",
    "            bl.drift,bl.qf,bl.drift,bl.qdf,bl.drift]\n",
    "\n",
    "vals = bl.opt_quad_mult(elements,lengths,'P-to-Par',S=False)\n",
    "vals"
   ]
  },
  {
   "cell_type": "code",
   "execution_count": 6,
   "metadata": {},
   "outputs": [
    {
     "data": {
      "image/png": "[encoded data removed]",
      "text/plain": [
       "<Figure size 1080x360 with 2 Axes>"
      ]
     },
     "metadata": {
      "needs_background": "light"
     },
     "output_type": "display_data"
    }
   ],
   "source": [
    "elements = bl.eles_to_peles(elements,vals,S=False)\n",
    "bl.plot_M_vs_s(elements,lengths, figsize = (15,5))\n",
    "\n",
    "\n",
    "\n",
    "plt.show()"
   ]
  },
  {
   "cell_type": "code",
   "execution_count": null,
   "metadata": {},
   "outputs": [],
   "source": [
    "[]"
   ]
  },
  {
   "cell_type": "markdown",
   "metadata": {},
   "source": [
    "## Multiplexer geometry BK"
   ]
  },
  {
   "cell_type": "code",
   "execution_count": null,
   "metadata": {},
   "outputs": [],
   "source": [
    "x_sept = 4*7e-3\n",
    "x_at_max_prop = 0.1\n",
    "x_add = x_at_max_prop - x_sept\n",
    "l_kick = 0.5\n",
    "l_sept = 0.5\n",
    "sept_type = 'DC'\n",
    "start_kick = 0.001 # smallest kick-angle\n",
    "step_kick = 0.001 # step size kick-angle\n",
    "\n",
    "list_perm = np.linspace(0,1,1001) # range of septum anglesenvelope\n",
    "max_prop = 2\n",
    "\n",
    "ax,data = geo.plot_comb_kick_sept(x_sept, x_add, 0,0, l_kick, l_sept, sept_type, \n",
    "                        start_kick, step_kick, list_perm, max_prop, figsize = (15,5),brho=0.98)\n",
    "\n",
    "plt.show()"
   ]
  },
  {
   "cell_type": "code",
   "execution_count": null,
   "metadata": {},
   "outputs": [],
   "source": [
    "kick_d = data[0][0.3]\n",
    "\n",
    "dks = [d[1] for d in data[1] if d[0] == kick_d]\n",
    "dks_av = sum(dks)/len(dks)\n",
    "# kicker-septum\n",
    "\n",
    "\n",
    "dsf = [d[1] for d in data[2] if d[0] == kick_d]\n",
    "dsf_av = sum(dsf)/len(dsf)\n",
    "# septum - final\n",
    "\n",
    "(kick_d,dks_av,dsf_av)"
   ]
  },
  {
   "cell_type": "code",
   "execution_count": null,
   "metadata": {},
   "outputs": [],
   "source": [
    "0.032*0.98/0.5"
   ]
  },
  {
   "cell_type": "code",
   "execution_count": null,
   "metadata": {},
   "outputs": [],
   "source": []
  },
  {
   "cell_type": "markdown",
   "metadata": {},
   "source": [
    "### multiplexer pulse compositions"
   ]
  },
  {
   "cell_type": "code",
   "execution_count": 166,
   "metadata": {},
   "outputs": [],
   "source": [
    "f_straight = np.arange(10,400,10)\n",
    "T_straight = 1/f_straight\n",
    "dc = 0.04\n",
    "\n",
    "t_rise = 1e-3"
   ]
  },
  {
   "cell_type": "code",
   "execution_count": 167,
   "metadata": {},
   "outputs": [],
   "source": [
    "t_defl = T_straight - dc*T_straight - 2*t_rise\n",
    "f_defl = dc/t_defl"
   ]
  },
  {
   "cell_type": "code",
   "execution_count": 169,
   "metadata": {},
   "outputs": [
    {
     "data": {
      "image/png": "[encoded data removed]",
      "text/plain": [
       "<Figure size 432x288 with 1 Axes>"
      ]
     },
     "metadata": {
      "needs_background": "light"
     },
     "output_type": "display_data"
    }
   ],
   "source": [
    "#plt.plot(f_straight,f_defl)\n",
    "\n",
    "plt.fill_between(f_straight,f_defl,100)\n",
    "plt.title('frequency combinations w/ {:.1e} s rise time and {} d.c.'.format(t_rise,dc))\n",
    "plt.xlabel('frequency straigt [Hz]')\n",
    "plt.ylabel('frequency deflected [Hz]')\n",
    "\n",
    "plt.savefig(r'C:\\Users\\mrimm\\Desktop\\Vorträge\\PHD_days_031219\\freq_upgrade_bum.png', format = 'png', dpi=300)\n",
    "plt.show()"
   ]
  },
  {
   "cell_type": "code",
   "execution_count": 3,
   "metadata": {},
   "outputs": [],
   "source": [
    "dc = 0.04\n",
    "risefall_1 = 12e-3\n",
    "f_straight_1 = np.arange(5,50,1)\n",
    "T_straight_1 = 1/f_straight_1\n",
    "t_straight_1 = dc*T_straight_1"
   ]
  },
  {
   "cell_type": "code",
   "execution_count": 4,
   "metadata": {},
   "outputs": [],
   "source": [
    "t_defl = T_straight_1-t_straight_1 - risefall_1\n",
    "\n",
    "t_defl[t_defl >= 0.05] = 0.05\n",
    "\n",
    "pos = (t_defl >= 0.015) & (t_defl <= 0.05)\n",
    "t_defl_pos = [None]*len(pos)\n",
    "\n",
    "for i,j in enumerate(pos):\n",
    "    if j:\n",
    "        t_defl_pos[i] = t_defl[i]\n",
    "    else:\n",
    "        t_defl_pos[i] = 0\n",
    "        \n",
    "\n",
    "        \n",
    "f_defl = 0.25\n",
    "dc_defl = [i*f_defl for i in t_defl_pos]"
   ]
  },
  {
   "cell_type": "code",
   "execution_count": 6,
   "metadata": {},
   "outputs": [
    {
     "data": {
      "image/png": "[encoded data removed]",
      "text/plain": [
       "<Figure size 432x288 with 1 Axes>"
      ]
     },
     "metadata": {
      "needs_background": "light"
     },
     "output_type": "display_data"
    }
   ],
   "source": [
    "plt.fill_between(f_straight_1, dc_defl)\n",
    "\n",
    "plt.title('d.c. of deflected beam vs. frequency of straight beam at 0.04 d.c.')\n",
    "plt.xlabel('frequency straigt [Hz]')\n",
    "plt.ylabel('d.c. deflected')\n",
    "\n",
    "plt.savefig(r'C:\\Users\\mrimm\\Desktop\\Vorträge\\PHD_days_031219\\dc_deflected_0.25Hz.png', format = 'png', dpi=300)\n",
    "plt.show()"
   ]
  },
  {
   "cell_type": "markdown",
   "metadata": {},
   "source": [
    "### effective length bumper"
   ]
  },
  {
   "cell_type": "code",
   "execution_count": 3,
   "metadata": {},
   "outputs": [
    {
     "data": {
      "text/plain": [
       "<matplotlib.axes._subplots.AxesSubplot at 0x1ffb4fe3a90>"
      ]
     },
     "execution_count": 3,
     "metadata": {},
     "output_type": "execute_result"
    },
    {
     "data": {
      "image/png": "[encoded data removed]",
      "text/plain": [
       "<Figure size 432x288 with 1 Axes>"
      ]
     },
     "metadata": {
      "needs_background": "light"
     },
     "output_type": "display_data"
    }
   ],
   "source": [
    "data = pd.read_csv(r'C:/Users/mrimm/Desktop/MISC/250A_1ms_50ms_10ms_length_full_2shots.txt',sep='\\t')\n",
    "\n",
    "data['Timestamp'] = data['Timestamp'].apply(lambda x: datetime.strptime(x[:26],'%Y.%m.%d %H:%M:%S.%f'))\n",
    "\n",
    "data['By'] = data['By'].apply(lambda x: -x)\n",
    "\n",
    "data.plot(y='By')"
   ]
  },
  {
   "cell_type": "code",
   "execution_count": 9,
   "metadata": {},
   "outputs": [
    {
     "data": {
      "text/plain": [
       "<matplotlib.axes._subplots.AxesSubplot at 0x1ffb686a9b0>"
      ]
     },
     "execution_count": 9,
     "metadata": {},
     "output_type": "execute_result"
    },
    {
     "data": {
      "image/png": "[encoded data removed]",
      "text/plain": [
       "<Figure size 432x288 with 1 Axes>"
      ]
     },
     "metadata": {
      "needs_background": "light"
     },
     "output_type": "display_data"
    }
   ],
   "source": [
    "data.loc[725:750].plot(y='By')"
   ]
  },
  {
   "cell_type": "code",
   "execution_count": 61,
   "metadata": {},
   "outputs": [
    {
     "data": {
      "text/html": [
       "<div>\n",
       "<style scoped>\n",
       "    .dataframe tbody tr th:only-of-type {\n",
       "        vertical-align: middle;\n",
       "    }\n",
       "\n",
       "    .dataframe tbody tr th {\n",
       "        vertical-align: top;\n",
       "    }\n",
       "\n",
       "    .dataframe thead th {\n",
       "        text-align: right;\n",
       "    }\n",
       "</style>\n",
       "<table border=\"1\" class=\"dataframe\">\n",
       "  <thead>\n",
       "    <tr style=\"text-align: right;\">\n",
       "      <th></th>\n",
       "      <th>dist</th>\n",
       "      <th>sec since start</th>\n",
       "      <th>Block</th>\n",
       "      <th>B</th>\n",
       "      <th>Bx</th>\n",
       "      <th>By</th>\n",
       "      <th>Bz</th>\n",
       "      <th>Units</th>\n",
       "      <th>Temperature</th>\n",
       "      <th>Timestamp</th>\n",
       "      <th>Serial No.</th>\n",
       "      <th>Comment</th>\n",
       "      <th>turn</th>\n",
       "    </tr>\n",
       "  </thead>\n",
       "  <tbody>\n",
       "    <tr>\n",
       "      <th>0</th>\n",
       "      <td>-530.0</td>\n",
       "      <td>10</td>\n",
       "      <td>166</td>\n",
       "      <td>0.816949</td>\n",
       "      <td>-0.029213</td>\n",
       "      <td>0.784485</td>\n",
       "      <td>0.211953</td>\n",
       "      <td>MT</td>\n",
       "      <td>20370</td>\n",
       "      <td>2019-11-19 15:28:25.574137</td>\n",
       "      <td>1065</td>\n",
       "      <td>NaN</td>\n",
       "      <td>0.0</td>\n",
       "    </tr>\n",
       "    <tr>\n",
       "      <th>1</th>\n",
       "      <td>-480.0</td>\n",
       "      <td>30</td>\n",
       "      <td>345</td>\n",
       "      <td>1.583857</td>\n",
       "      <td>-0.019050</td>\n",
       "      <td>1.569376</td>\n",
       "      <td>0.241540</td>\n",
       "      <td>MT</td>\n",
       "      <td>20385</td>\n",
       "      <td>2019-11-19 15:28:45.582887</td>\n",
       "      <td>1065</td>\n",
       "      <td>NaN</td>\n",
       "      <td>1.0</td>\n",
       "    </tr>\n",
       "    <tr>\n",
       "      <th>2</th>\n",
       "      <td>-430.0</td>\n",
       "      <td>40</td>\n",
       "      <td>436</td>\n",
       "      <td>3.434147</td>\n",
       "      <td>-0.019145</td>\n",
       "      <td>3.426632</td>\n",
       "      <td>0.212012</td>\n",
       "      <td>MT</td>\n",
       "      <td>20392</td>\n",
       "      <td>2019-11-19 15:28:55.587262</td>\n",
       "      <td>1065</td>\n",
       "      <td>NaN</td>\n",
       "      <td>2.0</td>\n",
       "    </tr>\n",
       "    <tr>\n",
       "      <th>3</th>\n",
       "      <td>-380.0</td>\n",
       "      <td>70</td>\n",
       "      <td>712</td>\n",
       "      <td>8.269353</td>\n",
       "      <td>0.047536</td>\n",
       "      <td>8.269143</td>\n",
       "      <td>0.129040</td>\n",
       "      <td>MT</td>\n",
       "      <td>20407</td>\n",
       "      <td>2019-11-19 15:29:25.590387</td>\n",
       "      <td>1065</td>\n",
       "      <td>NaN</td>\n",
       "      <td>3.0</td>\n",
       "    </tr>\n",
       "    <tr>\n",
       "      <th>4</th>\n",
       "      <td>-330.0</td>\n",
       "      <td>90</td>\n",
       "      <td>906</td>\n",
       "      <td>19.879653</td>\n",
       "      <td>0.236048</td>\n",
       "      <td>19.874015</td>\n",
       "      <td>-0.052646</td>\n",
       "      <td>MT</td>\n",
       "      <td>20417</td>\n",
       "      <td>2019-11-19 15:29:45.599137</td>\n",
       "      <td>1065</td>\n",
       "      <td>NaN</td>\n",
       "      <td>4.0</td>\n",
       "    </tr>\n",
       "    <tr>\n",
       "      <th>5</th>\n",
       "      <td>-280.0</td>\n",
       "      <td>110</td>\n",
       "      <td>1095</td>\n",
       "      <td>39.930771</td>\n",
       "      <td>0.571671</td>\n",
       "      <td>39.906489</td>\n",
       "      <td>-0.024285</td>\n",
       "      <td>MT</td>\n",
       "      <td>20432</td>\n",
       "      <td>2019-11-19 15:30:05.547844</td>\n",
       "      <td>1065</td>\n",
       "      <td>NaN</td>\n",
       "      <td>5.0</td>\n",
       "    </tr>\n",
       "    <tr>\n",
       "      <th>6</th>\n",
       "      <td>-230.0</td>\n",
       "      <td>130</td>\n",
       "      <td>1282</td>\n",
       "      <td>59.310699</td>\n",
       "      <td>1.016062</td>\n",
       "      <td>59.277884</td>\n",
       "      <td>-0.364876</td>\n",
       "      <td>MT</td>\n",
       "      <td>20439</td>\n",
       "      <td>2019-11-19 15:30:25.556594</td>\n",
       "      <td>1065</td>\n",
       "      <td>NaN</td>\n",
       "      <td>6.0</td>\n",
       "    </tr>\n",
       "    <tr>\n",
       "      <th>7</th>\n",
       "      <td>-180.0</td>\n",
       "      <td>150</td>\n",
       "      <td>1470</td>\n",
       "      <td>67.255269</td>\n",
       "      <td>1.280636</td>\n",
       "      <td>67.222803</td>\n",
       "      <td>0.702566</td>\n",
       "      <td>MT</td>\n",
       "      <td>20454</td>\n",
       "      <td>2019-11-19 15:30:45.615387</td>\n",
       "      <td>1065</td>\n",
       "      <td>NaN</td>\n",
       "      <td>7.0</td>\n",
       "    </tr>\n",
       "    <tr>\n",
       "      <th>8</th>\n",
       "      <td>-130.0</td>\n",
       "      <td>170</td>\n",
       "      <td>1667</td>\n",
       "      <td>69.137601</td>\n",
       "      <td>1.390634</td>\n",
       "      <td>69.104178</td>\n",
       "      <td>0.793259</td>\n",
       "      <td>MT</td>\n",
       "      <td>20465</td>\n",
       "      <td>2019-11-19 15:31:05.614137</td>\n",
       "      <td>1065</td>\n",
       "      <td>NaN</td>\n",
       "      <td>8.0</td>\n",
       "    </tr>\n",
       "    <tr>\n",
       "      <th>9</th>\n",
       "      <td>-80.0</td>\n",
       "      <td>190</td>\n",
       "      <td>1867</td>\n",
       "      <td>69.508528</td>\n",
       "      <td>1.424079</td>\n",
       "      <td>69.475154</td>\n",
       "      <td>0.687370</td>\n",
       "      <td>MT</td>\n",
       "      <td>20476</td>\n",
       "      <td>2019-11-19 15:31:25.622887</td>\n",
       "      <td>1065</td>\n",
       "      <td>NaN</td>\n",
       "      <td>9.0</td>\n",
       "    </tr>\n",
       "    <tr>\n",
       "      <th>10</th>\n",
       "      <td>-30.0</td>\n",
       "      <td>210</td>\n",
       "      <td>2065</td>\n",
       "      <td>69.577872</td>\n",
       "      <td>1.453773</td>\n",
       "      <td>69.543934</td>\n",
       "      <td>0.874853</td>\n",
       "      <td>MT</td>\n",
       "      <td>20487</td>\n",
       "      <td>2019-11-19 15:31:45.621637</td>\n",
       "      <td>1065</td>\n",
       "      <td>NaN</td>\n",
       "      <td>10.0</td>\n",
       "    </tr>\n",
       "    <tr>\n",
       "      <th>11</th>\n",
       "      <td>20.0</td>\n",
       "      <td>230</td>\n",
       "      <td>2265</td>\n",
       "      <td>69.584914</td>\n",
       "      <td>1.496850</td>\n",
       "      <td>69.546301</td>\n",
       "      <td>0.612806</td>\n",
       "      <td>MT</td>\n",
       "      <td>20492</td>\n",
       "      <td>2019-11-19 15:32:05.630387</td>\n",
       "      <td>1065</td>\n",
       "      <td>NaN</td>\n",
       "      <td>11.0</td>\n",
       "    </tr>\n",
       "    <tr>\n",
       "      <th>12</th>\n",
       "      <td>70.0</td>\n",
       "      <td>250</td>\n",
       "      <td>2462</td>\n",
       "      <td>69.573484</td>\n",
       "      <td>1.459090</td>\n",
       "      <td>69.535267</td>\n",
       "      <td>0.939253</td>\n",
       "      <td>MT</td>\n",
       "      <td>20498</td>\n",
       "      <td>2019-11-19 15:32:25.629137</td>\n",
       "      <td>1065</td>\n",
       "      <td>NaN</td>\n",
       "      <td>12.0</td>\n",
       "    </tr>\n",
       "    <tr>\n",
       "      <th>13</th>\n",
       "      <td>120.0</td>\n",
       "      <td>270</td>\n",
       "      <td>2660</td>\n",
       "      <td>69.413291</td>\n",
       "      <td>1.487515</td>\n",
       "      <td>69.374162</td>\n",
       "      <td>0.528971</td>\n",
       "      <td>MT</td>\n",
       "      <td>20502</td>\n",
       "      <td>2019-11-19 15:32:45.627887</td>\n",
       "      <td>1065</td>\n",
       "      <td>NaN</td>\n",
       "      <td>13.0</td>\n",
       "    </tr>\n",
       "    <tr>\n",
       "      <th>14</th>\n",
       "      <td>170.0</td>\n",
       "      <td>290</td>\n",
       "      <td>2858</td>\n",
       "      <td>68.439772</td>\n",
       "      <td>1.459793</td>\n",
       "      <td>68.400528</td>\n",
       "      <td>1.011934</td>\n",
       "      <td>MT</td>\n",
       "      <td>20511</td>\n",
       "      <td>2019-11-19 15:33:05.636637</td>\n",
       "      <td>1065</td>\n",
       "      <td>NaN</td>\n",
       "      <td>14.0</td>\n",
       "    </tr>\n",
       "    <tr>\n",
       "      <th>15</th>\n",
       "      <td>220.0</td>\n",
       "      <td>310</td>\n",
       "      <td>3055</td>\n",
       "      <td>63.803191</td>\n",
       "      <td>1.438143</td>\n",
       "      <td>63.768276</td>\n",
       "      <td>0.445697</td>\n",
       "      <td>MT</td>\n",
       "      <td>20515</td>\n",
       "      <td>2019-11-19 15:33:25.635344</td>\n",
       "      <td>1065</td>\n",
       "      <td>NaN</td>\n",
       "      <td>15.0</td>\n",
       "    </tr>\n",
       "    <tr>\n",
       "      <th>16</th>\n",
       "      <td>270.0</td>\n",
       "      <td>330</td>\n",
       "      <td>3251</td>\n",
       "      <td>49.246144</td>\n",
       "      <td>1.244627</td>\n",
       "      <td>49.225523</td>\n",
       "      <td>1.225727</td>\n",
       "      <td>MT</td>\n",
       "      <td>20516</td>\n",
       "      <td>2019-11-19 15:33:45.644094</td>\n",
       "      <td>1065</td>\n",
       "      <td>NaN</td>\n",
       "      <td>16.0</td>\n",
       "    </tr>\n",
       "    <tr>\n",
       "      <th>17</th>\n",
       "      <td>320.0</td>\n",
       "      <td>350</td>\n",
       "      <td>3449</td>\n",
       "      <td>27.029551</td>\n",
       "      <td>0.903146</td>\n",
       "      <td>27.014271</td>\n",
       "      <td>1.064267</td>\n",
       "      <td>MT</td>\n",
       "      <td>20522</td>\n",
       "      <td>2019-11-19 15:34:05.642844</td>\n",
       "      <td>1065</td>\n",
       "      <td>NaN</td>\n",
       "      <td>17.0</td>\n",
       "    </tr>\n",
       "    <tr>\n",
       "      <th>18</th>\n",
       "      <td>370.0</td>\n",
       "      <td>370</td>\n",
       "      <td>3646</td>\n",
       "      <td>11.785021</td>\n",
       "      <td>0.598439</td>\n",
       "      <td>11.771120</td>\n",
       "      <td>0.603793</td>\n",
       "      <td>MT</td>\n",
       "      <td>20522</td>\n",
       "      <td>2019-11-19 15:34:25.651594</td>\n",
       "      <td>1065</td>\n",
       "      <td>NaN</td>\n",
       "      <td>18.0</td>\n",
       "    </tr>\n",
       "    <tr>\n",
       "      <th>19</th>\n",
       "      <td>420.0</td>\n",
       "      <td>390</td>\n",
       "      <td>3846</td>\n",
       "      <td>4.718521</td>\n",
       "      <td>0.435078</td>\n",
       "      <td>4.693356</td>\n",
       "      <td>0.163601</td>\n",
       "      <td>MT</td>\n",
       "      <td>20530</td>\n",
       "      <td>2019-11-19 15:34:45.650344</td>\n",
       "      <td>1065</td>\n",
       "      <td>NaN</td>\n",
       "      <td>19.0</td>\n",
       "    </tr>\n",
       "    <tr>\n",
       "      <th>20</th>\n",
       "      <td>470.0</td>\n",
       "      <td>410</td>\n",
       "      <td>4045</td>\n",
       "      <td>2.046367</td>\n",
       "      <td>0.343648</td>\n",
       "      <td>2.007946</td>\n",
       "      <td>-0.199337</td>\n",
       "      <td>MT</td>\n",
       "      <td>20535</td>\n",
       "      <td>2019-11-19 15:35:05.649094</td>\n",
       "      <td>1065</td>\n",
       "      <td>NaN</td>\n",
       "      <td>20.0</td>\n",
       "    </tr>\n",
       "    <tr>\n",
       "      <th>21</th>\n",
       "      <td>520.0</td>\n",
       "      <td>430</td>\n",
       "      <td>4244</td>\n",
       "      <td>0.996198</td>\n",
       "      <td>0.277065</td>\n",
       "      <td>0.918741</td>\n",
       "      <td>-0.139687</td>\n",
       "      <td>MT</td>\n",
       "      <td>20543</td>\n",
       "      <td>2019-11-19 15:35:25.647844</td>\n",
       "      <td>1065</td>\n",
       "      <td>NaN</td>\n",
       "      <td>21.0</td>\n",
       "    </tr>\n",
       "  </tbody>\n",
       "</table>\n",
       "</div>"
      ],
      "text/plain": [
       "     dist  sec since start  Block          B        Bx         By        Bz  \\\n",
       "0  -530.0               10    166   0.816949 -0.029213   0.784485  0.211953   \n",
       "1  -480.0               30    345   1.583857 -0.019050   1.569376  0.241540   \n",
       "2  -430.0               40    436   3.434147 -0.019145   3.426632  0.212012   \n",
       "3  -380.0               70    712   8.269353  0.047536   8.269143  0.129040   \n",
       "4  -330.0               90    906  19.879653  0.236048  19.874015 -0.052646   \n",
       "5  -280.0              110   1095  39.930771  0.571671  39.906489 -0.024285   \n",
       "6  -230.0              130   1282  59.310699  1.016062  59.277884 -0.364876   \n",
       "7  -180.0              150   1470  67.255269  1.280636  67.222803  0.702566   \n",
       "8  -130.0              170   1667  69.137601  1.390634  69.104178  0.793259   \n",
       "9   -80.0              190   1867  69.508528  1.424079  69.475154  0.687370   \n",
       "10  -30.0              210   2065  69.577872  1.453773  69.543934  0.874853   \n",
       "11   20.0              230   2265  69.584914  1.496850  69.546301  0.612806   \n",
       "12   70.0              250   2462  69.573484  1.459090  69.535267  0.939253   \n",
       "13  120.0              270   2660  69.413291  1.487515  69.374162  0.528971   \n",
       "14  170.0              290   2858  68.439772  1.459793  68.400528  1.011934   \n",
       "15  220.0              310   3055  63.803191  1.438143  63.768276  0.445697   \n",
       "16  270.0              330   3251  49.246144  1.244627  49.225523  1.225727   \n",
       "17  320.0              350   3449  27.029551  0.903146  27.014271  1.064267   \n",
       "18  370.0              370   3646  11.785021  0.598439  11.771120  0.603793   \n",
       "19  420.0              390   3846   4.718521  0.435078   4.693356  0.163601   \n",
       "20  470.0              410   4045   2.046367  0.343648   2.007946 -0.199337   \n",
       "21  520.0              430   4244   0.996198  0.277065   0.918741 -0.139687   \n",
       "\n",
       "   Units  Temperature                  Timestamp  Serial No.  Comment  turn  \n",
       "0     MT        20370 2019-11-19 15:28:25.574137        1065      NaN   0.0  \n",
       "1     MT        20385 2019-11-19 15:28:45.582887        1065      NaN   1.0  \n",
       "2     MT        20392 2019-11-19 15:28:55.587262        1065      NaN   2.0  \n",
       "3     MT        20407 2019-11-19 15:29:25.590387        1065      NaN   3.0  \n",
       "4     MT        20417 2019-11-19 15:29:45.599137        1065      NaN   4.0  \n",
       "5     MT        20432 2019-11-19 15:30:05.547844        1065      NaN   5.0  \n",
       "6     MT        20439 2019-11-19 15:30:25.556594        1065      NaN   6.0  \n",
       "7     MT        20454 2019-11-19 15:30:45.615387        1065      NaN   7.0  \n",
       "8     MT        20465 2019-11-19 15:31:05.614137        1065      NaN   8.0  \n",
       "9     MT        20476 2019-11-19 15:31:25.622887        1065      NaN   9.0  \n",
       "10    MT        20487 2019-11-19 15:31:45.621637        1065      NaN  10.0  \n",
       "11    MT        20492 2019-11-19 15:32:05.630387        1065      NaN  11.0  \n",
       "12    MT        20498 2019-11-19 15:32:25.629137        1065      NaN  12.0  \n",
       "13    MT        20502 2019-11-19 15:32:45.627887        1065      NaN  13.0  \n",
       "14    MT        20511 2019-11-19 15:33:05.636637        1065      NaN  14.0  \n",
       "15    MT        20515 2019-11-19 15:33:25.635344        1065      NaN  15.0  \n",
       "16    MT        20516 2019-11-19 15:33:45.644094        1065      NaN  16.0  \n",
       "17    MT        20522 2019-11-19 15:34:05.642844        1065      NaN  17.0  \n",
       "18    MT        20522 2019-11-19 15:34:25.651594        1065      NaN  18.0  \n",
       "19    MT        20530 2019-11-19 15:34:45.650344        1065      NaN  19.0  \n",
       "20    MT        20535 2019-11-19 15:35:05.649094        1065      NaN  20.0  \n",
       "21    MT        20543 2019-11-19 15:35:25.647844        1065      NaN  21.0  "
      ]
     },
     "execution_count": 61,
     "metadata": {},
     "output_type": "execute_result"
    }
   ],
   "source": [
    "start = - 520/2 - 405 + 135 # start in mm\n",
    "\n",
    "rel = data[data['By'] >= 0.5].index\n",
    "df_rel = data[data.index.isin(rel)].groupby('Block').agg('max').reset_index()\n",
    "\n",
    "df_rel['sec since start'] = (df_rel['Timestamp']-df_rel['Timestamp'][0]).apply(lambda x: round(x.seconds/10)*10)\n",
    "df_rel = df_rel.groupby('sec since start').agg('max').reset_index()\n",
    "\n",
    "df_rel['turn'] = np.abs(round(df_rel['sec since start']/20-0.1)) # dirty hack to round 0.5 no.s down\n",
    "df_rel['dist'] = df_rel['turn']*50 + start\n",
    "\n",
    "df_rel = df_rel.groupby('dist').agg('max').reset_index()\n",
    "df_rel"
   ]
  },
  {
   "cell_type": "code",
   "execution_count": 87,
   "metadata": {},
   "outputs": [
    {
     "data": {
      "text/html": [
       "<div>\n",
       "<style scoped>\n",
       "    .dataframe tbody tr th:only-of-type {\n",
       "        vertical-align: middle;\n",
       "    }\n",
       "\n",
       "    .dataframe tbody tr th {\n",
       "        vertical-align: top;\n",
       "    }\n",
       "\n",
       "    .dataframe thead th {\n",
       "        text-align: right;\n",
       "    }\n",
       "</style>\n",
       "<table border=\"1\" class=\"dataframe\">\n",
       "  <thead>\n",
       "    <tr style=\"text-align: right;\">\n",
       "      <th></th>\n",
       "      <th>0</th>\n",
       "      <th>1</th>\n",
       "      <th>2</th>\n",
       "      <th>3</th>\n",
       "    </tr>\n",
       "  </thead>\n",
       "  <tbody>\n",
       "    <tr>\n",
       "      <th>0</th>\n",
       "      <td>-750.000000</td>\n",
       "      <td>0</td>\n",
       "      <td>0</td>\n",
       "      <td>0.217617</td>\n",
       "    </tr>\n",
       "    <tr>\n",
       "      <th>1</th>\n",
       "      <td>-749.926304</td>\n",
       "      <td>0</td>\n",
       "      <td>0</td>\n",
       "      <td>0.217650</td>\n",
       "    </tr>\n",
       "    <tr>\n",
       "      <th>2</th>\n",
       "      <td>-747.177932</td>\n",
       "      <td>0</td>\n",
       "      <td>0</td>\n",
       "      <td>0.220015</td>\n",
       "    </tr>\n",
       "    <tr>\n",
       "      <th>3</th>\n",
       "      <td>-747.038169</td>\n",
       "      <td>0</td>\n",
       "      <td>0</td>\n",
       "      <td>0.219984</td>\n",
       "    </tr>\n",
       "    <tr>\n",
       "      <th>4</th>\n",
       "      <td>-746.684114</td>\n",
       "      <td>0</td>\n",
       "      <td>0</td>\n",
       "      <td>0.213653</td>\n",
       "    </tr>\n",
       "  </tbody>\n",
       "</table>\n",
       "</div>"
      ],
      "text/plain": [
       "            0  1  2         3\n",
       "0 -750.000000  0  0  0.217617\n",
       "1 -749.926304  0  0  0.217650\n",
       "2 -747.177932  0  0  0.220015\n",
       "3 -747.038169  0  0  0.219984\n",
       "4 -746.684114  0  0  0.213653"
      ]
     },
     "execution_count": 87,
     "metadata": {},
     "output_type": "execute_result"
    }
   ],
   "source": [
    "data_sim = pd.read_csv(r'C:\\Users\\mrimm\\Desktop\\COMSOL projects\\COSY Bumper\\field_map_500A.txt',sep='\\s+', skiprows=9,header=None)\n",
    "data_sim[3] = data_sim[3]*1e3\n",
    "data_sim[0] = data_sim[0]*1e3\n",
    "data_sim.head()"
   ]
  },
  {
   "cell_type": "code",
   "execution_count": 96,
   "metadata": {},
   "outputs": [
    {
     "data": {
      "image/png": "[encoded data removed]",
      "text/plain": [
       "<Figure size 432x288 with 1 Axes>"
      ]
     },
     "metadata": {
      "needs_background": "light"
     },
     "output_type": "display_data"
    }
   ],
   "source": [
    "ax = plt.gca()\n",
    "\n",
    "df_rel.plot(x='dist',y='By', kind = 'scatter',ax=ax)\n",
    "data_sim.sort_values(0).plot(x=0,y=3,ax=ax)\n",
    "\n",
    "plt.legend(['simulation','measurement'])\n",
    "\n",
    "plt.xlabel('x in mm')\n",
    "plt.ylabel('By in mT')\n",
    "\n",
    "#plt.xticks(df_rel['dist'])\n",
    "plt.savefig(r'C:\\Users\\mrimm\\Desktop\\COMSOL projects\\COSY Bumper\\Byvsz_sim_meas.png', format = 'png', dpi=300)\n",
    "plt.show()"
   ]
  },
  {
   "cell_type": "code",
   "execution_count": 70,
   "metadata": {},
   "outputs": [
    {
     "data": {
      "text/plain": [
       "0.6073001524552685"
      ]
     },
     "execution_count": 70,
     "metadata": {},
     "output_type": "execute_result"
    }
   ],
   "source": [
    "# effective length calc. w/ interpolation of missing data\n",
    "df_rel['By'].sum()*0.05/df_rel['By'].max()"
   ]
  },
  {
   "cell_type": "code",
   "execution_count": 97,
   "metadata": {},
   "outputs": [
    {
     "data": {
      "text/plain": [
       "42.23547919999999"
      ]
     },
     "execution_count": 97,
     "metadata": {},
     "output_type": "execute_result"
    }
   ],
   "source": [
    "df_rel['By'].sum()*0.05"
   ]
  },
  {
   "cell_type": "code",
   "execution_count": 100,
   "metadata": {},
   "outputs": [
    {
     "data": {
      "text/html": [
       "<div>\n",
       "<style scoped>\n",
       "    .dataframe tbody tr th:only-of-type {\n",
       "        vertical-align: middle;\n",
       "    }\n",
       "\n",
       "    .dataframe tbody tr th {\n",
       "        vertical-align: top;\n",
       "    }\n",
       "\n",
       "    .dataframe thead th {\n",
       "        text-align: right;\n",
       "    }\n",
       "</style>\n",
       "<table border=\"1\" class=\"dataframe\">\n",
       "  <thead>\n",
       "    <tr style=\"text-align: right;\">\n",
       "      <th></th>\n",
       "      <th>0</th>\n",
       "      <th>1</th>\n",
       "      <th>2</th>\n",
       "      <th>3</th>\n",
       "    </tr>\n",
       "  </thead>\n",
       "  <tbody>\n",
       "    <tr>\n",
       "      <th>0</th>\n",
       "      <td>-750.000000</td>\n",
       "      <td>0</td>\n",
       "      <td>0</td>\n",
       "      <td>0.122709</td>\n",
       "    </tr>\n",
       "    <tr>\n",
       "      <th>1</th>\n",
       "      <td>-749.926304</td>\n",
       "      <td>0</td>\n",
       "      <td>0</td>\n",
       "      <td>0.122727</td>\n",
       "    </tr>\n",
       "    <tr>\n",
       "      <th>2</th>\n",
       "      <td>-747.177932</td>\n",
       "      <td>0</td>\n",
       "      <td>0</td>\n",
       "      <td>0.124083</td>\n",
       "    </tr>\n",
       "    <tr>\n",
       "      <th>3</th>\n",
       "      <td>-747.038169</td>\n",
       "      <td>0</td>\n",
       "      <td>0</td>\n",
       "      <td>0.124075</td>\n",
       "    </tr>\n",
       "    <tr>\n",
       "      <th>4</th>\n",
       "      <td>-746.684114</td>\n",
       "      <td>0</td>\n",
       "      <td>0</td>\n",
       "      <td>0.120429</td>\n",
       "    </tr>\n",
       "  </tbody>\n",
       "</table>\n",
       "</div>"
      ],
      "text/plain": [
       "            0  1  2         3\n",
       "0 -750.000000  0  0  0.122709\n",
       "1 -749.926304  0  0  0.122727\n",
       "2 -747.177932  0  0  0.124083\n",
       "3 -747.038169  0  0  0.124075\n",
       "4 -746.684114  0  0  0.120429"
      ]
     },
     "execution_count": 100,
     "metadata": {},
     "output_type": "execute_result"
    }
   ],
   "source": [
    "data_sim_ny = pd.read_csv(r'C:\\Users\\mrimm\\Desktop\\COMSOL projects\\COSY Bumper\\field_map_new_yoke_250A.txt',sep='\\s+', skiprows=9,header=None)\n",
    "data_sim_ny[3] = data_sim_ny[3]*1e3\n",
    "data_sim_ny[0] = data_sim_ny[0]*1e3\n",
    "data_sim_ny.head()"
   ]
  },
  {
   "cell_type": "code",
   "execution_count": 108,
   "metadata": {},
   "outputs": [
    {
     "data": {
      "image/png": "[encoded data removed]",
      "text/plain": [
       "<Figure size 432x288 with 1 Axes>"
      ]
     },
     "metadata": {
      "needs_background": "light"
     },
     "output_type": "display_data"
    }
   ],
   "source": [
    "data_sim_ny.sort_values(0).plot(0,3)\n",
    "\n",
    "plt.legend(['simulation'])\n",
    "\n",
    "plt.xlabel('x in mm')\n",
    "plt.ylabel('By in mT')\n",
    "\n",
    "plt.savefig(r'C:\\Users\\mrimm\\Desktop\\COMSOL projects\\COSY Bumper\\Byvsz_sim_ny.png', format = 'png', dpi=300)\n",
    "plt.show()"
   ]
  },
  {
   "cell_type": "markdown",
   "metadata": {},
   "source": [
    "## acceleration cyclotron"
   ]
  },
  {
   "cell_type": "code",
   "execution_count": 7,
   "metadata": {},
   "outputs": [
    {
     "data": {
      "text/plain": [
       "[<matplotlib.lines.Line2D at 0x20e52cf2b00>]"
      ]
     },
     "execution_count": 7,
     "metadata": {},
     "output_type": "execute_result"
    },
    {
     "data": {
      "image/png": "[encoded data removed]",
      "text/plain": [
       "<Figure size 432x288 with 1 Axes>"
      ]
     },
     "metadata": {
      "needs_background": "light"
     },
     "output_type": "display_data"
    }
   ],
   "source": [
    "T = np.linspace(4.5e-3,45,100)\n",
    "beta = np.sqrt(T**2+2*T*938)/(T+938)\n",
    "\n",
    "plt.plot(T,beta)\n",
    "#relativistic vel increase"
   ]
  },
  {
   "cell_type": "markdown",
   "metadata": {},
   "source": [
    "## Eval HFHall meas Bumper"
   ]
  },
  {
   "cell_type": "code",
   "execution_count": 3,
   "metadata": {},
   "outputs": [],
   "source": [
    "import os\n",
    "\n",
    "PATH_TO_DIR = r'C:\\Users\\mrimm\\Desktop\\MISC\\Bumper_HFHall\\Magnetfelder'\n",
    "\n",
    "def get_meas_dfs(path):\n",
    "    files = os.listdir(path)\n",
    "    d = {}\n",
    "    \n",
    "    for i,file in enumerate(files):\n",
    "        df = pd.read_csv(os.path.join(path,file) ,sep='\\t',skiprows = 8,usecols = [0,1])\n",
    "        run = file.split('_0_A1_001.asd')[0]\n",
    "        df['id'] = run\n",
    "        df['mT'] = df['V'].apply(lambda x: x*1e5/2000) # conversion in mT\n",
    "        df['Vdiff'] = df['V'].diff()\n",
    "        \n",
    "        d[i] = df\n",
    "        \n",
    "    return d\n",
    "    \n",
    "dfs = get_meas_dfs(PATH_TO_DIR)"
   ]
  },
  {
   "cell_type": "code",
   "execution_count": 49,
   "metadata": {},
   "outputs": [
    {
     "data": {
      "image/png": "[encoded data removed]",
      "text/plain": [
       "<Figure size 360x3600 with 14 Axes>"
      ]
     },
     "metadata": {
      "needs_background": "light"
     },
     "output_type": "display_data"
    }
   ],
   "source": [
    "no_dfs = len(dfs.keys())\n",
    "fig,ax = plt.subplots(no_dfs,1,figsize = (5,50))\n",
    "\n",
    "data = {}\n",
    "\n",
    "for i in range(no_dfs):\n",
    "    df_temp = dfs[i]\n",
    "    glmin = df_temp['mT'].min()\n",
    "    s_glmin = df_temp[df_temp['mT'] == glmin]['s'].min()\n",
    "    df_bf_glmin = df_temp[df_temp['s'] < s_glmin]\n",
    "    \n",
    "    start_zero = df_bf_glmin[df_bf_glmin['mT'] == df_bf_glmin['mT'].max()]['s'].min()\n",
    "    start_10p = df_bf_glmin[df_bf_glmin['mT'] <= glmin*0.1]['s'].min()\n",
    "    end_90p = df_bf_glmin[df_bf_glmin['mT'] <= glmin*0.9]['s'].min()\n",
    "    \n",
    "    ID = df_temp['id'].unique()[0]\n",
    "    \n",
    "    full_rt = np.abs(s_glmin-start_zero)\n",
    "    ten90_rt = np.abs(end_90p-start_10p)\n",
    "    \n",
    "    data[ID] = [start_zero,start_10p,end_90p,s_glmin,ten90_rt,full_rt]\n",
    "    \n",
    "    ax[i].plot(df_temp['s'],df_temp['mT'])\n",
    "    ax[i].set_title(ID)\n",
    "\n",
    "plt.show()"
   ]
  },
  {
   "cell_type": "code",
   "execution_count": 50,
   "metadata": {},
   "outputs": [
    {
     "data": {
      "image/png": "[encoded data removed]",
      "text/plain": [
       "<Figure size 432x288 with 1 Axes>"
      ]
     },
     "metadata": {
      "needs_background": "light"
     },
     "output_type": "display_data"
    }
   ],
   "source": [
    "for i in data.keys():\n",
    "    plt.scatter(i,data[i][4])\n",
    "    \n",
    "    \n",
    "plt.xticks(rotation=90)\n",
    "plt.ylim([0,0.005])\n",
    "plt.show()"
   ]
  },
  {
   "cell_type": "code",
   "execution_count": 4,
   "metadata": {},
   "outputs": [
    {
     "data": {
      "text/html": [
       "<div>\n",
       "<style scoped>\n",
       "    .dataframe tbody tr th:only-of-type {\n",
       "        vertical-align: middle;\n",
       "    }\n",
       "\n",
       "    .dataframe tbody tr th {\n",
       "        vertical-align: top;\n",
       "    }\n",
       "\n",
       "    .dataframe thead th {\n",
       "        text-align: right;\n",
       "    }\n",
       "</style>\n",
       "<table border=\"1\" class=\"dataframe\">\n",
       "  <thead>\n",
       "    <tr style=\"text-align: right;\">\n",
       "      <th></th>\n",
       "      <th>s</th>\n",
       "      <th>V</th>\n",
       "      <th>id</th>\n",
       "      <th>mT</th>\n",
       "      <th>Vdiff</th>\n",
       "    </tr>\n",
       "  </thead>\n",
       "  <tbody>\n",
       "    <tr>\n",
       "      <th>0</th>\n",
       "      <td>-0.999999</td>\n",
       "      <td>0.003750</td>\n",
       "      <td>1ms_50ms_10ms_100A_150V</td>\n",
       "      <td>0.187500</td>\n",
       "      <td>NaN</td>\n",
       "    </tr>\n",
       "    <tr>\n",
       "      <th>1</th>\n",
       "      <td>-0.999998</td>\n",
       "      <td>0.003437</td>\n",
       "      <td>1ms_50ms_10ms_100A_150V</td>\n",
       "      <td>0.171875</td>\n",
       "      <td>-0.000313</td>\n",
       "    </tr>\n",
       "    <tr>\n",
       "      <th>2</th>\n",
       "      <td>-0.999997</td>\n",
       "      <td>0.003437</td>\n",
       "      <td>1ms_50ms_10ms_100A_150V</td>\n",
       "      <td>0.171875</td>\n",
       "      <td>0.000000</td>\n",
       "    </tr>\n",
       "    <tr>\n",
       "      <th>3</th>\n",
       "      <td>-0.999996</td>\n",
       "      <td>0.003437</td>\n",
       "      <td>1ms_50ms_10ms_100A_150V</td>\n",
       "      <td>0.171875</td>\n",
       "      <td>0.000000</td>\n",
       "    </tr>\n",
       "    <tr>\n",
       "      <th>4</th>\n",
       "      <td>-0.999995</td>\n",
       "      <td>0.002813</td>\n",
       "      <td>1ms_50ms_10ms_100A_150V</td>\n",
       "      <td>0.140625</td>\n",
       "      <td>-0.000625</td>\n",
       "    </tr>\n",
       "  </tbody>\n",
       "</table>\n",
       "</div>"
      ],
      "text/plain": [
       "          s         V                       id        mT     Vdiff\n",
       "0 -0.999999  0.003750  1ms_50ms_10ms_100A_150V  0.187500       NaN\n",
       "1 -0.999998  0.003437  1ms_50ms_10ms_100A_150V  0.171875 -0.000313\n",
       "2 -0.999997  0.003437  1ms_50ms_10ms_100A_150V  0.171875  0.000000\n",
       "3 -0.999996  0.003437  1ms_50ms_10ms_100A_150V  0.171875  0.000000\n",
       "4 -0.999995  0.002813  1ms_50ms_10ms_100A_150V  0.140625 -0.000625"
      ]
     },
     "execution_count": 4,
     "metadata": {},
     "output_type": "execute_result"
    }
   ],
   "source": [
    "df_test = dfs[0]\n",
    "df_test.head()"
   ]
  },
  {
   "cell_type": "code",
   "execution_count": 5,
   "metadata": {},
   "outputs": [
    {
     "data": {
      "text/plain": [
       "<matplotlib.axes._subplots.AxesSubplot at 0x18b552de390>"
      ]
     },
     "execution_count": 5,
     "metadata": {},
     "output_type": "execute_result"
    },
    {
     "data": {
      "image/png": "[encoded data removed]",
      "text/plain": [
       "<Figure size 432x288 with 1 Axes>"
      ]
     },
     "metadata": {
      "needs_background": "light"
     },
     "output_type": "display_data"
    }
   ],
   "source": [
    "df_test.plot('s','mT')"
   ]
  },
  {
   "cell_type": "code",
   "execution_count": 99,
   "metadata": {},
   "outputs": [
    {
     "data": {
      "text/plain": [
       "<matplotlib.axes._subplots.AxesSubplot at 0x18b1eb8e7b8>"
      ]
     },
     "execution_count": 99,
     "metadata": {},
     "output_type": "execute_result"
    },
    {
     "data": {
      "image/png": "[encoded data removed]",
      "text/plain": [
       "<Figure size 432x288 with 1 Axes>"
      ]
     },
     "metadata": {
      "needs_background": "light"
     },
     "output_type": "display_data"
    }
   ],
   "source": [
    "df_int = df_test[(df_test['s'] > -0.8225) & (df_test['s'] < -0.822)]\n",
    "\n",
    "df_int.plot('s','mT')"
   ]
  },
  {
   "cell_type": "code",
   "execution_count": 101,
   "metadata": {},
   "outputs": [
    {
     "data": {
      "image/png": "[encoded data removed]",
      "text/plain": [
       "<Figure size 432x288 with 1 Axes>"
      ]
     },
     "metadata": {
      "needs_background": "light"
     },
     "output_type": "display_data"
    }
   ],
   "source": [
    "f = np.fft.fftfreq(len(df_int['s']),d=1e-6)\n",
    "fft = np.fft.fft(df_int['V'])\n",
    "\n",
    "\n",
    "plt.plot(f,fft.real)\n",
    "plt.yscale('log')"
   ]
  },
  {
   "cell_type": "code",
   "execution_count": 120,
   "metadata": {},
   "outputs": [],
   "source": [
    "df_fft = pd.DataFrame({'freq':f,'fft':fft})\n",
    "\n",
    "df_fft_low = df_fft[(df_fft['freq']<=1e3) | (df_fft['freq']>=-1e3)]\n",
    "df_fft_high = df_fft[(df_fft['freq']>1e3) | (df_fft['freq']<-1e3)]\n",
    "\n",
    "df_fft_low.loc[:,'gain'] = df_fft_low['freq'].apply(lambda x: trans_hp_2nd(x,popt_low[0],popt_low[1],popt_low[2]))\n",
    "df_fft_high.loc[:,'gain'] = df_fft_high['freq'].apply(lambda x: poly(x,popt_high[0],popt_high[1],popt_high[2],popt_high[3]))\n",
    "\n",
    "df_fft = df_fft_low.append(df_fft_high)"
   ]
  },
  {
   "cell_type": "code",
   "execution_count": 122,
   "metadata": {},
   "outputs": [
    {
     "data": {
      "text/plain": [
       "[<matplotlib.lines.Line2D at 0x18b1f65b6a0>]"
      ]
     },
     "execution_count": 122,
     "metadata": {},
     "output_type": "execute_result"
    },
    {
     "data": {
      "image/png": "[encoded data removed]",
      "text/plain": [
       "<Figure size 432x288 with 1 Axes>"
      ]
     },
     "metadata": {
      "needs_background": "light"
     },
     "output_type": "display_data"
    }
   ],
   "source": [
    "fft_inv = np.fft.ifft(df_fft['fft_cor'].array)\n",
    "plt.plot(fft_inv.real)"
   ]
  },
  {
   "cell_type": "markdown",
   "metadata": {},
   "source": [
    "### import gain curve from HF Hall & fit filter fct"
   ]
  },
  {
   "cell_type": "code",
   "execution_count": 8,
   "metadata": {},
   "outputs": [],
   "source": [
    "trans = pd.read_excel(r'C:\\Users\\mrimm\\Desktop\\MISC\\Bumper_HFHall\\Frequenzgang Hallsensor.xlsx',usecols = [1,4])"
   ]
  },
  {
   "cell_type": "code",
   "execution_count": 9,
   "metadata": {},
   "outputs": [],
   "source": [
    "def trans_hp_2nd(f,L,R,C):\n",
    "    w = 2*np.pi*f\n",
    "    \n",
    "    return w*L/np.sqrt(R**2+(w*L-1/(w*C))**2)\n",
    "\n",
    "def poly(x,a,b,c,d):\n",
    "    \n",
    "    return a*x+b*x**2+c*x**3+d"
   ]
  },
  {
   "cell_type": "code",
   "execution_count": 10,
   "metadata": {},
   "outputs": [
    {
     "data": {
      "image/png": "[encoded data removed]",
      "text/plain": [
       "<Figure size 432x288 with 1 Axes>"
      ]
     },
     "metadata": {
      "needs_background": "light"
     },
     "output_type": "display_data"
    }
   ],
   "source": [
    "trans_low = trans[trans['f / Hz'] <= 1e3]\n",
    "popt_low, pcov_low = sco.curve_fit(trans_hp_2nd,trans_low['f / Hz'],trans_low['Gain Gesamt'])\n",
    "\n",
    "trans_high = trans[trans['f / Hz'] >= 1e3]\n",
    "popt_high, pcov_high = sco.curve_fit(poly,trans_high['f / Hz'],trans_high['Gain Gesamt'])\n",
    "\n",
    "plt.plot(trans_high['f / Hz'],poly(trans_high['f / Hz'],popt_high[0],popt_high[1],popt_high[2],popt_high[3]))\n",
    "plt.plot(trans_low['f / Hz'],trans_hp_2nd(trans_low['f / Hz'],popt_low[0],popt_low[1],popt_low[2]))\n",
    "plt.scatter(trans['f / Hz'],trans['Gain Gesamt'])\n",
    "plt.xscale('log')"
   ]
  },
  {
   "cell_type": "markdown",
   "metadata": {},
   "source": [
    "### Eval LR measurement Bumper"
   ]
  },
  {
   "cell_type": "code",
   "execution_count": 123,
   "metadata": {},
   "outputs": [
    {
     "name": "stdout",
     "output_type": "stream",
     "text": [
      "0.6\n",
      "0.92\n",
      "1.24\n",
      "1.56\n"
     ]
    },
    {
     "data": {
      "text/plain": [
       "[<matplotlib.lines.Line2D at 0x1ffc031d5c0>]"
      ]
     },
     "execution_count": 123,
     "metadata": {},
     "output_type": "execute_result"
    },
    {
     "data": {
      "image/png": "[encoded data removed]",
      "text/plain": [
       "<Figure size 432x288 with 1 Axes>"
      ]
     },
     "metadata": {
      "needs_background": "light"
     },
     "output_type": "display_data"
    }
   ],
   "source": [
    "t = np.arange(0,2,0.01)\n",
    "I = 150e3/40.5*(1-np.exp(-t*40.5/547))\n",
    "currs = [200,300,400,500]\n",
    "for c in currs:\n",
    "    start = [t for t,i in enumerate(I) if i >=0.1*c][0]\n",
    "    final = [t for t,i in enumerate(I) if i >=0.9*c][0]\n",
    "    print((final-start)/100)\n",
    "\n",
    "plt.plot(t,I)\n"
   ]
  },
  {
   "cell_type": "code",
   "execution_count": 95,
   "metadata": {},
   "outputs": [
    {
     "name": "stdout",
     "output_type": "stream",
     "text": [
      "23.8 393.4 0.54\n",
      "43.400000000000006 723.4 1.0\n",
      "63.0 1053.4 1.48\n"
     ]
    },
    {
     "data": {
      "image/png": "[encoded data removed]",
      "text/plain": [
       "<Figure size 432x288 with 1 Axes>"
      ]
     },
     "metadata": {
      "needs_background": "light"
     },
     "output_type": "display_data"
    }
   ],
   "source": [
    "Ls = [393.4,393.4+330,393.4+660]\n",
    "Rs = [23.8,23.8+19.6,23.8+2*19.6]\n",
    "\n",
    "for R,L in zip(Rs,Ls):\n",
    "    \n",
    "    I_1PS = 150e3/R*(1-np.exp(-t*R/L))\n",
    "    plt.plot(t,I_1PS)\n",
    "    \n",
    "    start = [t for t,i in enumerate(I_1PS) if i >=0.1*250][0]\n",
    "    final = [t for t,i in enumerate(I_1PS) if i >=0.9*250][0]\n",
    "    print(R,L,(final-start)/100)\n",
    "\n",
    "plt.show()"
   ]
  },
  {
   "cell_type": "code",
   "execution_count": 87,
   "metadata": {},
   "outputs": [
    {
     "data": {
      "text/plain": [
       "[0.0008260000000001044, 0.0011900000000000244, 0.0017140000000001043]"
      ]
     },
     "execution_count": 87,
     "metadata": {},
     "output_type": "execute_result"
    }
   ],
   "source": [
    "one_PS_ids = [i for i in data.keys() if '1PowerSupply' in i][:3]\n",
    "meas = [data[i][4] for i in one_PS_ids] \n",
    "meas"
   ]
  },
  {
   "cell_type": "code",
   "execution_count": 93,
   "metadata": {},
   "outputs": [
    {
     "name": "stdout",
     "output_type": "stream",
     "text": [
      "1.4406779661015423 1.8518518518518516\n",
      "2.075060532687515 2.7407407407407405\n"
     ]
    }
   ],
   "source": [
    "print(meas[1]/meas[0],1/0.54)\n",
    "print(meas[2]/meas[0],1.48/0.54)"
   ]
  },
  {
   "cell_type": "code",
   "execution_count": 157,
   "metadata": {},
   "outputs": [
    {
     "name": "stdout",
     "output_type": "stream",
     "text": [
      "0.8059999999999734\n",
      "1.0729999999999906\n",
      "1.4529999999998156\n",
      "1.8460000000000143\n",
      "0.8260000000001044\n",
      "1.1900000000000244\n",
      "1.7140000000001043\n"
     ]
    },
    {
     "data": {
      "image/png": "[encoded data removed]",
      "text/plain": [
       "<Figure size 432x288 with 1 Axes>"
      ]
     },
     "metadata": {
      "needs_background": "light"
     },
     "output_type": "display_data"
    }
   ],
   "source": [
    "to_plot = list(data.keys())[:7]\n",
    "\n",
    "t_circ = [0.6,0.92,1.24,1.56,0.54,1,1.48]\n",
    "\n",
    "for i,j in enumerate(to_plot):\n",
    "    plt.scatter(j,data[j][4]*1e3,c='b')\n",
    "    plt.scatter(j,t_circ[i],c='r')\n",
    "    print(data[j][4]*1e3)\n",
    "    \n",
    "plt.legend(['measured','circuit'])  \n",
    "label = ('2 P.S 200 A','2 P.S 300 A','2 P.S 400 A','2 P.S 500 A','1 P.S 250 A','1 P.S 250 A, 330 uH','1 P.S 250 A, 660 uH')\n",
    "plt.xticks(ticks = range(8),labels = label,rotation=30)\n",
    "plt.ylabel('10 - 90 % rise time in ms')\n",
    "plt.yticks(np.arange(0,2.5,0.2))\n",
    "\n",
    "\n",
    "plt.tight_layout()\n",
    "plt.savefig(r'C:\\Users\\mrimm\\Desktop\\COMSOL projects\\COSY Bumper\\rise_times.png', format = 'png', dpi=300)\n",
    "plt.show()"
   ]
  },
  {
   "cell_type": "markdown",
   "metadata": {},
   "source": [
    "### calc the rms current value in the bumper "
   ]
  },
  {
   "cell_type": "code",
   "execution_count": 208,
   "metadata": {},
   "outputs": [
    {
     "data": {
      "text/plain": [
       "141.53915830374766"
      ]
     },
     "execution_count": 208,
     "metadata": {},
     "output_type": "execute_result"
    }
   ],
   "source": [
    "np.sqrt(200*(2/3*500**2*(1e-3)**2 + 500**2*0.4e-3))"
   ]
  },
  {
   "cell_type": "code",
   "execution_count": null,
   "metadata": {},
   "outputs": [],
   "source": []
  },
  {
   "cell_type": "code",
   "execution_count": null,
   "metadata": {},
   "outputs": [],
   "source": []
  },
  {
   "cell_type": "code",
   "execution_count": 7,
   "metadata": {},
   "outputs": [
    {
     "data": {
      "text/plain": [
       "<matplotlib.axes._subplots.AxesSubplot at 0x17e3c5a0be0>"
      ]
     },
     "execution_count": 7,
     "metadata": {},
     "output_type": "execute_result"
    },
    {
     "data": {
      "image/png": "[encoded data removed]",
      "text/plain": [
       "<Figure size 432x288 with 1 Axes>"
      ]
     },
     "metadata": {
      "needs_background": "light"
     },
     "output_type": "display_data"
    }
   ],
   "source": [
    "data_pos = pd.read_csv(r'C:/Users/mrimm/Desktop/MISC/250A_10ms_50ms_10ms_pos.txt',sep='\\t')\n",
    "\n",
    "data_pos['Timestamp'] = data_pos['Timestamp'].apply(lambda x: datetime.strptime(x[:26],'%Y.%m.%d %H:%M:%S.%f'))\n",
    "\n",
    "data_pos['By'] = data_pos['By'].apply(lambda x: -x)\n",
    "\n",
    "data_pos.plot(y='By')"
   ]
  },
  {
   "cell_type": "code",
   "execution_count": 10,
   "metadata": {},
   "outputs": [
    {
     "data": {
      "text/html": [
       "<div>\n",
       "<style scoped>\n",
       "    .dataframe tbody tr th:only-of-type {\n",
       "        vertical-align: middle;\n",
       "    }\n",
       "\n",
       "    .dataframe tbody tr th {\n",
       "        vertical-align: top;\n",
       "    }\n",
       "\n",
       "    .dataframe thead th {\n",
       "        text-align: right;\n",
       "    }\n",
       "</style>\n",
       "<table border=\"1\" class=\"dataframe\">\n",
       "  <thead>\n",
       "    <tr style=\"text-align: right;\">\n",
       "      <th></th>\n",
       "      <th>Block</th>\n",
       "      <th>B</th>\n",
       "      <th>Bx</th>\n",
       "      <th>By</th>\n",
       "      <th>Bz</th>\n",
       "      <th>Units</th>\n",
       "      <th>Temperature</th>\n",
       "      <th>Timestamp</th>\n",
       "      <th>Serial No.</th>\n",
       "      <th>Comment</th>\n",
       "    </tr>\n",
       "  </thead>\n",
       "  <tbody>\n",
       "    <tr>\n",
       "      <th>0</th>\n",
       "      <td>0</td>\n",
       "      <td>0.060745</td>\n",
       "      <td>-0.024522</td>\n",
       "      <td>0.052014</td>\n",
       "      <td>-0.019577</td>\n",
       "      <td>MT</td>\n",
       "      <td>20390</td>\n",
       "      <td>2019-12-13 11:51:35.120094</td>\n",
       "      <td>1065</td>\n",
       "      <td>NaN</td>\n",
       "    </tr>\n",
       "    <tr>\n",
       "      <th>1</th>\n",
       "      <td>0</td>\n",
       "      <td>0.098311</td>\n",
       "      <td>-0.062324</td>\n",
       "      <td>0.064107</td>\n",
       "      <td>-0.040878</td>\n",
       "      <td>MT</td>\n",
       "      <td>20390</td>\n",
       "      <td>2019-12-13 11:51:35.130094</td>\n",
       "      <td>1065</td>\n",
       "      <td>NaN</td>\n",
       "    </tr>\n",
       "    <tr>\n",
       "      <th>2</th>\n",
       "      <td>0</td>\n",
       "      <td>0.066227</td>\n",
       "      <td>0.013523</td>\n",
       "      <td>0.063807</td>\n",
       "      <td>-0.011481</td>\n",
       "      <td>MT</td>\n",
       "      <td>20390</td>\n",
       "      <td>2019-12-13 11:51:35.140094</td>\n",
       "      <td>1065</td>\n",
       "      <td>NaN</td>\n",
       "    </tr>\n",
       "    <tr>\n",
       "      <th>3</th>\n",
       "      <td>0</td>\n",
       "      <td>0.060860</td>\n",
       "      <td>-0.041688</td>\n",
       "      <td>0.044319</td>\n",
       "      <td>0.001402</td>\n",
       "      <td>MT</td>\n",
       "      <td>20390</td>\n",
       "      <td>2019-12-13 11:51:35.150094</td>\n",
       "      <td>1065</td>\n",
       "      <td>NaN</td>\n",
       "    </tr>\n",
       "    <tr>\n",
       "      <th>4</th>\n",
       "      <td>0</td>\n",
       "      <td>0.063119</td>\n",
       "      <td>-0.015455</td>\n",
       "      <td>0.051836</td>\n",
       "      <td>-0.032529</td>\n",
       "      <td>MT</td>\n",
       "      <td>20390</td>\n",
       "      <td>2019-12-13 11:51:35.160094</td>\n",
       "      <td>1065</td>\n",
       "      <td>NaN</td>\n",
       "    </tr>\n",
       "    <tr>\n",
       "      <th>5</th>\n",
       "      <td>0</td>\n",
       "      <td>0.071063</td>\n",
       "      <td>-0.032660</td>\n",
       "      <td>0.060399</td>\n",
       "      <td>0.018310</td>\n",
       "      <td>MT</td>\n",
       "      <td>20390</td>\n",
       "      <td>2019-12-13 11:51:35.170094</td>\n",
       "      <td>1065</td>\n",
       "      <td>NaN</td>\n",
       "    </tr>\n",
       "    <tr>\n",
       "      <th>6</th>\n",
       "      <td>0</td>\n",
       "      <td>0.069807</td>\n",
       "      <td>-0.020405</td>\n",
       "      <td>0.055838</td>\n",
       "      <td>-0.036589</td>\n",
       "      <td>MT</td>\n",
       "      <td>20390</td>\n",
       "      <td>2019-12-13 11:51:35.180094</td>\n",
       "      <td>1065</td>\n",
       "      <td>NaN</td>\n",
       "    </tr>\n",
       "    <tr>\n",
       "      <th>7</th>\n",
       "      <td>0</td>\n",
       "      <td>0.078518</td>\n",
       "      <td>-0.049780</td>\n",
       "      <td>0.052626</td>\n",
       "      <td>0.030290</td>\n",
       "      <td>MT</td>\n",
       "      <td>20390</td>\n",
       "      <td>2019-12-13 11:51:35.190094</td>\n",
       "      <td>1065</td>\n",
       "      <td>NaN</td>\n",
       "    </tr>\n",
       "    <tr>\n",
       "      <th>8</th>\n",
       "      <td>0</td>\n",
       "      <td>0.066671</td>\n",
       "      <td>-0.028572</td>\n",
       "      <td>0.060223</td>\n",
       "      <td>0.001332</td>\n",
       "      <td>MT</td>\n",
       "      <td>20390</td>\n",
       "      <td>2019-12-13 11:51:35.200094</td>\n",
       "      <td>1065</td>\n",
       "      <td>NaN</td>\n",
       "    </tr>\n",
       "    <tr>\n",
       "      <th>9</th>\n",
       "      <td>0</td>\n",
       "      <td>6.779073</td>\n",
       "      <td>0.019604</td>\n",
       "      <td>6.740045</td>\n",
       "      <td>-0.726114</td>\n",
       "      <td>MT</td>\n",
       "      <td>20390</td>\n",
       "      <td>2019-12-13 11:51:35.210094</td>\n",
       "      <td>1065</td>\n",
       "      <td>NaN</td>\n",
       "    </tr>\n",
       "    <tr>\n",
       "      <th>10</th>\n",
       "      <td>1</td>\n",
       "      <td>67.980482</td>\n",
       "      <td>1.376311</td>\n",
       "      <td>67.924820</td>\n",
       "      <td>-2.381308</td>\n",
       "      <td>MT</td>\n",
       "      <td>20382</td>\n",
       "      <td>2019-12-13 11:51:35.220138</td>\n",
       "      <td>1065</td>\n",
       "      <td>NaN</td>\n",
       "    </tr>\n",
       "    <tr>\n",
       "      <th>11</th>\n",
       "      <td>1</td>\n",
       "      <td>69.526731</td>\n",
       "      <td>1.615413</td>\n",
       "      <td>69.485435</td>\n",
       "      <td>-1.769510</td>\n",
       "      <td>MT</td>\n",
       "      <td>20382</td>\n",
       "      <td>2019-12-13 11:51:35.230138</td>\n",
       "      <td>1065</td>\n",
       "      <td>NaN</td>\n",
       "    </tr>\n",
       "    <tr>\n",
       "      <th>12</th>\n",
       "      <td>1</td>\n",
       "      <td>69.560973</td>\n",
       "      <td>1.594540</td>\n",
       "      <td>69.520800</td>\n",
       "      <td>-1.744922</td>\n",
       "      <td>MT</td>\n",
       "      <td>20382</td>\n",
       "      <td>2019-12-13 11:51:35.240138</td>\n",
       "      <td>1065</td>\n",
       "      <td>NaN</td>\n",
       "    </tr>\n",
       "    <tr>\n",
       "      <th>13</th>\n",
       "      <td>1</td>\n",
       "      <td>69.573072</td>\n",
       "      <td>1.569778</td>\n",
       "      <td>69.532730</td>\n",
       "      <td>-1.774154</td>\n",
       "      <td>MT</td>\n",
       "      <td>20382</td>\n",
       "      <td>2019-12-13 11:51:35.250138</td>\n",
       "      <td>1065</td>\n",
       "      <td>NaN</td>\n",
       "    </tr>\n",
       "    <tr>\n",
       "      <th>14</th>\n",
       "      <td>1</td>\n",
       "      <td>62.764707</td>\n",
       "      <td>1.617704</td>\n",
       "      <td>62.735283</td>\n",
       "      <td>-1.037195</td>\n",
       "      <td>MT</td>\n",
       "      <td>20382</td>\n",
       "      <td>2019-12-13 11:51:35.260138</td>\n",
       "      <td>1065</td>\n",
       "      <td>NaN</td>\n",
       "    </tr>\n",
       "    <tr>\n",
       "      <th>15</th>\n",
       "      <td>1</td>\n",
       "      <td>2.781768</td>\n",
       "      <td>0.230480</td>\n",
       "      <td>2.671843</td>\n",
       "      <td>0.739168</td>\n",
       "      <td>MT</td>\n",
       "      <td>20382</td>\n",
       "      <td>2019-12-13 11:51:35.270138</td>\n",
       "      <td>1065</td>\n",
       "      <td>NaN</td>\n",
       "    </tr>\n",
       "    <tr>\n",
       "      <th>16</th>\n",
       "      <td>1</td>\n",
       "      <td>0.112263</td>\n",
       "      <td>-0.024100</td>\n",
       "      <td>0.106976</td>\n",
       "      <td>-0.024049</td>\n",
       "      <td>MT</td>\n",
       "      <td>20382</td>\n",
       "      <td>2019-12-13 11:51:35.280138</td>\n",
       "      <td>1065</td>\n",
       "      <td>NaN</td>\n",
       "    </tr>\n",
       "    <tr>\n",
       "      <th>17</th>\n",
       "      <td>1</td>\n",
       "      <td>0.093776</td>\n",
       "      <td>-0.062391</td>\n",
       "      <td>0.064219</td>\n",
       "      <td>-0.027879</td>\n",
       "      <td>MT</td>\n",
       "      <td>20382</td>\n",
       "      <td>2019-12-13 11:51:35.290138</td>\n",
       "      <td>1065</td>\n",
       "      <td>NaN</td>\n",
       "    </tr>\n",
       "    <tr>\n",
       "      <th>18</th>\n",
       "      <td>1</td>\n",
       "      <td>0.076368</td>\n",
       "      <td>-0.049518</td>\n",
       "      <td>0.056238</td>\n",
       "      <td>-0.014743</td>\n",
       "      <td>MT</td>\n",
       "      <td>20382</td>\n",
       "      <td>2019-12-13 11:51:35.300138</td>\n",
       "      <td>1065</td>\n",
       "      <td>NaN</td>\n",
       "    </tr>\n",
       "    <tr>\n",
       "      <th>19</th>\n",
       "      <td>1</td>\n",
       "      <td>0.064823</td>\n",
       "      <td>-0.028669</td>\n",
       "      <td>0.056336</td>\n",
       "      <td>0.014366</td>\n",
       "      <td>MT</td>\n",
       "      <td>20382</td>\n",
       "      <td>2019-12-13 11:51:35.310138</td>\n",
       "      <td>1065</td>\n",
       "      <td>NaN</td>\n",
       "    </tr>\n",
       "    <tr>\n",
       "      <th>20</th>\n",
       "      <td>2</td>\n",
       "      <td>0.065605</td>\n",
       "      <td>0.000172</td>\n",
       "      <td>0.052342</td>\n",
       "      <td>0.039551</td>\n",
       "      <td>MT</td>\n",
       "      <td>20383</td>\n",
       "      <td>2019-12-13 11:51:35.520269</td>\n",
       "      <td>1065</td>\n",
       "      <td>NaN</td>\n",
       "    </tr>\n",
       "    <tr>\n",
       "      <th>21</th>\n",
       "      <td>2</td>\n",
       "      <td>0.068359</td>\n",
       "      <td>0.000459</td>\n",
       "      <td>0.068056</td>\n",
       "      <td>0.006415</td>\n",
       "      <td>MT</td>\n",
       "      <td>20383</td>\n",
       "      <td>2019-12-13 11:51:35.530269</td>\n",
       "      <td>1065</td>\n",
       "      <td>NaN</td>\n",
       "    </tr>\n",
       "    <tr>\n",
       "      <th>22</th>\n",
       "      <td>2</td>\n",
       "      <td>0.060539</td>\n",
       "      <td>0.000527</td>\n",
       "      <td>0.055798</td>\n",
       "      <td>-0.023480</td>\n",
       "      <td>MT</td>\n",
       "      <td>20383</td>\n",
       "      <td>2019-12-13 11:51:35.540269</td>\n",
       "      <td>1065</td>\n",
       "      <td>NaN</td>\n",
       "    </tr>\n",
       "    <tr>\n",
       "      <th>23</th>\n",
       "      <td>2</td>\n",
       "      <td>0.076929</td>\n",
       "      <td>-0.016463</td>\n",
       "      <td>0.075136</td>\n",
       "      <td>0.001266</td>\n",
       "      <td>MT</td>\n",
       "      <td>20383</td>\n",
       "      <td>2019-12-13 11:51:35.550269</td>\n",
       "      <td>1065</td>\n",
       "      <td>NaN</td>\n",
       "    </tr>\n",
       "    <tr>\n",
       "      <th>24</th>\n",
       "      <td>2</td>\n",
       "      <td>0.042837</td>\n",
       "      <td>-0.024816</td>\n",
       "      <td>0.033274</td>\n",
       "      <td>0.010585</td>\n",
       "      <td>MT</td>\n",
       "      <td>20383</td>\n",
       "      <td>2019-12-13 11:51:35.560269</td>\n",
       "      <td>1065</td>\n",
       "      <td>NaN</td>\n",
       "    </tr>\n",
       "    <tr>\n",
       "      <th>25</th>\n",
       "      <td>2</td>\n",
       "      <td>0.077440</td>\n",
       "      <td>-0.049688</td>\n",
       "      <td>0.056522</td>\n",
       "      <td>0.018256</td>\n",
       "      <td>MT</td>\n",
       "      <td>20383</td>\n",
       "      <td>2019-12-13 11:51:35.570269</td>\n",
       "      <td>1065</td>\n",
       "      <td>NaN</td>\n",
       "    </tr>\n",
       "    <tr>\n",
       "      <th>26</th>\n",
       "      <td>2</td>\n",
       "      <td>0.073627</td>\n",
       "      <td>-0.058687</td>\n",
       "      <td>0.044442</td>\n",
       "      <td>0.001313</td>\n",
       "      <td>MT</td>\n",
       "      <td>20383</td>\n",
       "      <td>2019-12-13 11:51:35.580269</td>\n",
       "      <td>1065</td>\n",
       "      <td>NaN</td>\n",
       "    </tr>\n",
       "    <tr>\n",
       "      <th>27</th>\n",
       "      <td>2</td>\n",
       "      <td>0.079025</td>\n",
       "      <td>-0.045442</td>\n",
       "      <td>0.060131</td>\n",
       "      <td>-0.023756</td>\n",
       "      <td>MT</td>\n",
       "      <td>20383</td>\n",
       "      <td>2019-12-13 11:51:35.590269</td>\n",
       "      <td>1065</td>\n",
       "      <td>NaN</td>\n",
       "    </tr>\n",
       "    <tr>\n",
       "      <th>28</th>\n",
       "      <td>2</td>\n",
       "      <td>0.085118</td>\n",
       "      <td>-0.049560</td>\n",
       "      <td>0.068453</td>\n",
       "      <td>0.010153</td>\n",
       "      <td>MT</td>\n",
       "      <td>20383</td>\n",
       "      <td>2019-12-13 11:51:35.600269</td>\n",
       "      <td>1065</td>\n",
       "      <td>NaN</td>\n",
       "    </tr>\n",
       "    <tr>\n",
       "      <th>29</th>\n",
       "      <td>2</td>\n",
       "      <td>0.055218</td>\n",
       "      <td>0.004489</td>\n",
       "      <td>0.047735</td>\n",
       "      <td>-0.027390</td>\n",
       "      <td>MT</td>\n",
       "      <td>20383</td>\n",
       "      <td>2019-12-13 11:51:35.610269</td>\n",
       "      <td>1065</td>\n",
       "      <td>NaN</td>\n",
       "    </tr>\n",
       "    <tr>\n",
       "      <th>...</th>\n",
       "      <td>...</td>\n",
       "      <td>...</td>\n",
       "      <td>...</td>\n",
       "      <td>...</td>\n",
       "      <td>...</td>\n",
       "      <td>...</td>\n",
       "      <td>...</td>\n",
       "      <td>...</td>\n",
       "      <td>...</td>\n",
       "      <td>...</td>\n",
       "    </tr>\n",
       "    <tr>\n",
       "      <th>16780</th>\n",
       "      <td>1678</td>\n",
       "      <td>0.082444</td>\n",
       "      <td>0.006681</td>\n",
       "      <td>0.079787</td>\n",
       "      <td>-0.019655</td>\n",
       "      <td>MT</td>\n",
       "      <td>20455</td>\n",
       "      <td>2019-12-13 11:55:42.328201</td>\n",
       "      <td>1065</td>\n",
       "      <td>NaN</td>\n",
       "    </tr>\n",
       "    <tr>\n",
       "      <th>16781</th>\n",
       "      <td>1678</td>\n",
       "      <td>0.080498</td>\n",
       "      <td>-0.027740</td>\n",
       "      <td>0.064544</td>\n",
       "      <td>0.039301</td>\n",
       "      <td>MT</td>\n",
       "      <td>20455</td>\n",
       "      <td>2019-12-13 11:55:42.338201</td>\n",
       "      <td>1065</td>\n",
       "      <td>NaN</td>\n",
       "    </tr>\n",
       "    <tr>\n",
       "      <th>16782</th>\n",
       "      <td>1678</td>\n",
       "      <td>0.088284</td>\n",
       "      <td>0.027626</td>\n",
       "      <td>0.083773</td>\n",
       "      <td>-0.003580</td>\n",
       "      <td>MT</td>\n",
       "      <td>20455</td>\n",
       "      <td>2019-12-13 11:55:42.348201</td>\n",
       "      <td>1065</td>\n",
       "      <td>NaN</td>\n",
       "    </tr>\n",
       "    <tr>\n",
       "      <th>16783</th>\n",
       "      <td>1678</td>\n",
       "      <td>0.074706</td>\n",
       "      <td>-0.005377</td>\n",
       "      <td>0.071875</td>\n",
       "      <td>-0.019649</td>\n",
       "      <td>MT</td>\n",
       "      <td>20455</td>\n",
       "      <td>2019-12-13 11:55:42.358201</td>\n",
       "      <td>1065</td>\n",
       "      <td>NaN</td>\n",
       "    </tr>\n",
       "    <tr>\n",
       "      <th>16784</th>\n",
       "      <td>1678</td>\n",
       "      <td>0.067476</td>\n",
       "      <td>-0.035534</td>\n",
       "      <td>0.056162</td>\n",
       "      <td>-0.011669</td>\n",
       "      <td>MT</td>\n",
       "      <td>20455</td>\n",
       "      <td>2019-12-13 11:55:42.368201</td>\n",
       "      <td>1065</td>\n",
       "      <td>NaN</td>\n",
       "    </tr>\n",
       "    <tr>\n",
       "      <th>16785</th>\n",
       "      <td>1678</td>\n",
       "      <td>0.061911</td>\n",
       "      <td>-0.031526</td>\n",
       "      <td>0.044987</td>\n",
       "      <td>-0.028553</td>\n",
       "      <td>MT</td>\n",
       "      <td>20455</td>\n",
       "      <td>2019-12-13 11:55:42.378201</td>\n",
       "      <td>1065</td>\n",
       "      <td>NaN</td>\n",
       "    </tr>\n",
       "    <tr>\n",
       "      <th>16786</th>\n",
       "      <td>1678</td>\n",
       "      <td>0.064699</td>\n",
       "      <td>-0.014661</td>\n",
       "      <td>0.060269</td>\n",
       "      <td>0.018405</td>\n",
       "      <td>MT</td>\n",
       "      <td>20455</td>\n",
       "      <td>2019-12-13 11:55:42.388201</td>\n",
       "      <td>1065</td>\n",
       "      <td>NaN</td>\n",
       "    </tr>\n",
       "    <tr>\n",
       "      <th>16787</th>\n",
       "      <td>1678</td>\n",
       "      <td>0.068367</td>\n",
       "      <td>-0.022497</td>\n",
       "      <td>0.064102</td>\n",
       "      <td>-0.007670</td>\n",
       "      <td>MT</td>\n",
       "      <td>20455</td>\n",
       "      <td>2019-12-13 11:55:42.398201</td>\n",
       "      <td>1065</td>\n",
       "      <td>NaN</td>\n",
       "    </tr>\n",
       "    <tr>\n",
       "      <th>16788</th>\n",
       "      <td>1678</td>\n",
       "      <td>0.053235</td>\n",
       "      <td>-0.010605</td>\n",
       "      <td>0.052050</td>\n",
       "      <td>-0.003504</td>\n",
       "      <td>MT</td>\n",
       "      <td>20455</td>\n",
       "      <td>2019-12-13 11:55:42.408201</td>\n",
       "      <td>1065</td>\n",
       "      <td>NaN</td>\n",
       "    </tr>\n",
       "    <tr>\n",
       "      <th>16789</th>\n",
       "      <td>1678</td>\n",
       "      <td>0.073648</td>\n",
       "      <td>-0.043474</td>\n",
       "      <td>0.052074</td>\n",
       "      <td>-0.028676</td>\n",
       "      <td>MT</td>\n",
       "      <td>20455</td>\n",
       "      <td>2019-12-13 11:55:42.418201</td>\n",
       "      <td>1065</td>\n",
       "      <td>NaN</td>\n",
       "    </tr>\n",
       "    <tr>\n",
       "      <th>16790</th>\n",
       "      <td>1679</td>\n",
       "      <td>0.074760</td>\n",
       "      <td>-0.056617</td>\n",
       "      <td>0.048358</td>\n",
       "      <td>-0.006711</td>\n",
       "      <td>MT</td>\n",
       "      <td>20452</td>\n",
       "      <td>2019-12-13 11:55:42.428244</td>\n",
       "      <td>1065</td>\n",
       "      <td>NaN</td>\n",
       "    </tr>\n",
       "    <tr>\n",
       "      <th>16791</th>\n",
       "      <td>1679</td>\n",
       "      <td>0.041097</td>\n",
       "      <td>0.002288</td>\n",
       "      <td>0.041000</td>\n",
       "      <td>0.001658</td>\n",
       "      <td>MT</td>\n",
       "      <td>20452</td>\n",
       "      <td>2019-12-13 11:55:42.438244</td>\n",
       "      <td>1065</td>\n",
       "      <td>NaN</td>\n",
       "    </tr>\n",
       "    <tr>\n",
       "      <th>16792</th>\n",
       "      <td>1679</td>\n",
       "      <td>0.080100</td>\n",
       "      <td>-0.035367</td>\n",
       "      <td>0.063980</td>\n",
       "      <td>-0.032737</td>\n",
       "      <td>MT</td>\n",
       "      <td>20452</td>\n",
       "      <td>2019-12-13 11:55:42.448244</td>\n",
       "      <td>1065</td>\n",
       "      <td>NaN</td>\n",
       "    </tr>\n",
       "    <tr>\n",
       "      <th>16793</th>\n",
       "      <td>1679</td>\n",
       "      <td>0.110657</td>\n",
       "      <td>0.006543</td>\n",
       "      <td>0.103295</td>\n",
       "      <td>0.039144</td>\n",
       "      <td>MT</td>\n",
       "      <td>20452</td>\n",
       "      <td>2019-12-13 11:55:42.458244</td>\n",
       "      <td>1065</td>\n",
       "      <td>NaN</td>\n",
       "    </tr>\n",
       "    <tr>\n",
       "      <th>16794</th>\n",
       "      <td>1679</td>\n",
       "      <td>0.081000</td>\n",
       "      <td>-0.043413</td>\n",
       "      <td>0.064116</td>\n",
       "      <td>-0.023779</td>\n",
       "      <td>MT</td>\n",
       "      <td>20452</td>\n",
       "      <td>2019-12-13 11:55:42.468244</td>\n",
       "      <td>1065</td>\n",
       "      <td>NaN</td>\n",
       "    </tr>\n",
       "    <tr>\n",
       "      <th>16795</th>\n",
       "      <td>1679</td>\n",
       "      <td>0.086994</td>\n",
       "      <td>-0.027267</td>\n",
       "      <td>0.071853</td>\n",
       "      <td>-0.040763</td>\n",
       "      <td>MT</td>\n",
       "      <td>20452</td>\n",
       "      <td>2019-12-13 11:55:42.478244</td>\n",
       "      <td>1065</td>\n",
       "      <td>NaN</td>\n",
       "    </tr>\n",
       "    <tr>\n",
       "      <th>16796</th>\n",
       "      <td>1679</td>\n",
       "      <td>0.083120</td>\n",
       "      <td>-0.001259</td>\n",
       "      <td>0.063553</td>\n",
       "      <td>-0.053558</td>\n",
       "      <td>MT</td>\n",
       "      <td>20452</td>\n",
       "      <td>2019-12-13 11:55:42.488244</td>\n",
       "      <td>1065</td>\n",
       "      <td>NaN</td>\n",
       "    </tr>\n",
       "    <tr>\n",
       "      <th>16797</th>\n",
       "      <td>1679</td>\n",
       "      <td>0.075053</td>\n",
       "      <td>-0.027426</td>\n",
       "      <td>0.068069</td>\n",
       "      <td>-0.015730</td>\n",
       "      <td>MT</td>\n",
       "      <td>20452</td>\n",
       "      <td>2019-12-13 11:55:42.498244</td>\n",
       "      <td>1065</td>\n",
       "      <td>NaN</td>\n",
       "    </tr>\n",
       "    <tr>\n",
       "      <th>16798</th>\n",
       "      <td>1679</td>\n",
       "      <td>0.078307</td>\n",
       "      <td>-0.043584</td>\n",
       "      <td>0.064401</td>\n",
       "      <td>0.009219</td>\n",
       "      <td>MT</td>\n",
       "      <td>20452</td>\n",
       "      <td>2019-12-13 11:55:42.508244</td>\n",
       "      <td>1065</td>\n",
       "      <td>NaN</td>\n",
       "    </tr>\n",
       "    <tr>\n",
       "      <th>16799</th>\n",
       "      <td>1679</td>\n",
       "      <td>0.109631</td>\n",
       "      <td>-0.064286</td>\n",
       "      <td>0.087336</td>\n",
       "      <td>-0.016088</td>\n",
       "      <td>MT</td>\n",
       "      <td>20452</td>\n",
       "      <td>2019-12-13 11:55:42.518244</td>\n",
       "      <td>1065</td>\n",
       "      <td>NaN</td>\n",
       "    </tr>\n",
       "    <tr>\n",
       "      <th>16800</th>\n",
       "      <td>1680</td>\n",
       "      <td>0.052991</td>\n",
       "      <td>0.010389</td>\n",
       "      <td>0.051907</td>\n",
       "      <td>-0.002394</td>\n",
       "      <td>MT</td>\n",
       "      <td>20452</td>\n",
       "      <td>2019-12-13 11:55:42.528288</td>\n",
       "      <td>1065</td>\n",
       "      <td>NaN</td>\n",
       "    </tr>\n",
       "    <tr>\n",
       "      <th>16801</th>\n",
       "      <td>1680</td>\n",
       "      <td>0.090078</td>\n",
       "      <td>-0.048593</td>\n",
       "      <td>0.072549</td>\n",
       "      <td>0.022123</td>\n",
       "      <td>MT</td>\n",
       "      <td>20452</td>\n",
       "      <td>2019-12-13 11:55:42.538288</td>\n",
       "      <td>1065</td>\n",
       "      <td>NaN</td>\n",
       "    </tr>\n",
       "    <tr>\n",
       "      <th>16802</th>\n",
       "      <td>1680</td>\n",
       "      <td>0.055687</td>\n",
       "      <td>-0.018651</td>\n",
       "      <td>0.052186</td>\n",
       "      <td>0.005453</td>\n",
       "      <td>MT</td>\n",
       "      <td>20452</td>\n",
       "      <td>2019-12-13 11:55:42.548288</td>\n",
       "      <td>1065</td>\n",
       "      <td>NaN</td>\n",
       "    </tr>\n",
       "    <tr>\n",
       "      <th>16803</th>\n",
       "      <td>1680</td>\n",
       "      <td>0.059363</td>\n",
       "      <td>-0.027651</td>\n",
       "      <td>0.052251</td>\n",
       "      <td>0.005406</td>\n",
       "      <td>MT</td>\n",
       "      <td>20452</td>\n",
       "      <td>2019-12-13 11:55:42.558288</td>\n",
       "      <td>1065</td>\n",
       "      <td>NaN</td>\n",
       "    </tr>\n",
       "    <tr>\n",
       "      <th>16804</th>\n",
       "      <td>1680</td>\n",
       "      <td>0.065863</td>\n",
       "      <td>-0.010476</td>\n",
       "      <td>0.063981</td>\n",
       "      <td>-0.011607</td>\n",
       "      <td>MT</td>\n",
       "      <td>20452</td>\n",
       "      <td>2019-12-13 11:55:42.568288</td>\n",
       "      <td>1065</td>\n",
       "      <td>NaN</td>\n",
       "    </tr>\n",
       "    <tr>\n",
       "      <th>16805</th>\n",
       "      <td>1680</td>\n",
       "      <td>0.068840</td>\n",
       "      <td>-0.010435</td>\n",
       "      <td>0.036585</td>\n",
       "      <td>-0.057373</td>\n",
       "      <td>MT</td>\n",
       "      <td>20452</td>\n",
       "      <td>2019-12-13 11:55:42.578288</td>\n",
       "      <td>1065</td>\n",
       "      <td>NaN</td>\n",
       "    </tr>\n",
       "    <tr>\n",
       "      <th>16806</th>\n",
       "      <td>1680</td>\n",
       "      <td>0.054772</td>\n",
       "      <td>0.014326</td>\n",
       "      <td>0.051982</td>\n",
       "      <td>0.009626</td>\n",
       "      <td>MT</td>\n",
       "      <td>20452</td>\n",
       "      <td>2019-12-13 11:55:42.588288</td>\n",
       "      <td>1065</td>\n",
       "      <td>NaN</td>\n",
       "    </tr>\n",
       "    <tr>\n",
       "      <th>16807</th>\n",
       "      <td>1680</td>\n",
       "      <td>0.106287</td>\n",
       "      <td>-0.064257</td>\n",
       "      <td>0.076155</td>\n",
       "      <td>-0.036992</td>\n",
       "      <td>MT</td>\n",
       "      <td>20452</td>\n",
       "      <td>2019-12-13 11:55:42.598288</td>\n",
       "      <td>1065</td>\n",
       "      <td>NaN</td>\n",
       "    </tr>\n",
       "    <tr>\n",
       "      <th>16808</th>\n",
       "      <td>1680</td>\n",
       "      <td>0.066603</td>\n",
       "      <td>-0.035601</td>\n",
       "      <td>0.056274</td>\n",
       "      <td>0.001330</td>\n",
       "      <td>MT</td>\n",
       "      <td>20452</td>\n",
       "      <td>2019-12-13 11:55:42.608288</td>\n",
       "      <td>1065</td>\n",
       "      <td>NaN</td>\n",
       "    </tr>\n",
       "    <tr>\n",
       "      <th>16809</th>\n",
       "      <td>1680</td>\n",
       "      <td>0.059607</td>\n",
       "      <td>-0.031571</td>\n",
       "      <td>0.048099</td>\n",
       "      <td>-0.015579</td>\n",
       "      <td>MT</td>\n",
       "      <td>20452</td>\n",
       "      <td>2019-12-13 11:55:42.618288</td>\n",
       "      <td>1065</td>\n",
       "      <td>NaN</td>\n",
       "    </tr>\n",
       "  </tbody>\n",
       "</table>\n",
       "<p>16810 rows × 10 columns</p>\n",
       "</div>"
      ],
      "text/plain": [
       "       Block          B        Bx         By        Bz Units  Temperature  \\\n",
       "0          0   0.060745 -0.024522   0.052014 -0.019577    MT        20390   \n",
       "1          0   0.098311 -0.062324   0.064107 -0.040878    MT        20390   \n",
       "2          0   0.066227  0.013523   0.063807 -0.011481    MT        20390   \n",
       "3          0   0.060860 -0.041688   0.044319  0.001402    MT        20390   \n",
       "4          0   0.063119 -0.015455   0.051836 -0.032529    MT        20390   \n",
       "5          0   0.071063 -0.032660   0.060399  0.018310    MT        20390   \n",
       "6          0   0.069807 -0.020405   0.055838 -0.036589    MT        20390   \n",
       "7          0   0.078518 -0.049780   0.052626  0.030290    MT        20390   \n",
       "8          0   0.066671 -0.028572   0.060223  0.001332    MT        20390   \n",
       "9          0   6.779073  0.019604   6.740045 -0.726114    MT        20390   \n",
       "10         1  67.980482  1.376311  67.924820 -2.381308    MT        20382   \n",
       "11         1  69.526731  1.615413  69.485435 -1.769510    MT        20382   \n",
       "12         1  69.560973  1.594540  69.520800 -1.744922    MT        20382   \n",
       "13         1  69.573072  1.569778  69.532730 -1.774154    MT        20382   \n",
       "14         1  62.764707  1.617704  62.735283 -1.037195    MT        20382   \n",
       "15         1   2.781768  0.230480   2.671843  0.739168    MT        20382   \n",
       "16         1   0.112263 -0.024100   0.106976 -0.024049    MT        20382   \n",
       "17         1   0.093776 -0.062391   0.064219 -0.027879    MT        20382   \n",
       "18         1   0.076368 -0.049518   0.056238 -0.014743    MT        20382   \n",
       "19         1   0.064823 -0.028669   0.056336  0.014366    MT        20382   \n",
       "20         2   0.065605  0.000172   0.052342  0.039551    MT        20383   \n",
       "21         2   0.068359  0.000459   0.068056  0.006415    MT        20383   \n",
       "22         2   0.060539  0.000527   0.055798 -0.023480    MT        20383   \n",
       "23         2   0.076929 -0.016463   0.075136  0.001266    MT        20383   \n",
       "24         2   0.042837 -0.024816   0.033274  0.010585    MT        20383   \n",
       "25         2   0.077440 -0.049688   0.056522  0.018256    MT        20383   \n",
       "26         2   0.073627 -0.058687   0.044442  0.001313    MT        20383   \n",
       "27         2   0.079025 -0.045442   0.060131 -0.023756    MT        20383   \n",
       "28         2   0.085118 -0.049560   0.068453  0.010153    MT        20383   \n",
       "29         2   0.055218  0.004489   0.047735 -0.027390    MT        20383   \n",
       "...      ...        ...       ...        ...       ...   ...          ...   \n",
       "16780   1678   0.082444  0.006681   0.079787 -0.019655    MT        20455   \n",
       "16781   1678   0.080498 -0.027740   0.064544  0.039301    MT        20455   \n",
       "16782   1678   0.088284  0.027626   0.083773 -0.003580    MT        20455   \n",
       "16783   1678   0.074706 -0.005377   0.071875 -0.019649    MT        20455   \n",
       "16784   1678   0.067476 -0.035534   0.056162 -0.011669    MT        20455   \n",
       "16785   1678   0.061911 -0.031526   0.044987 -0.028553    MT        20455   \n",
       "16786   1678   0.064699 -0.014661   0.060269  0.018405    MT        20455   \n",
       "16787   1678   0.068367 -0.022497   0.064102 -0.007670    MT        20455   \n",
       "16788   1678   0.053235 -0.010605   0.052050 -0.003504    MT        20455   \n",
       "16789   1678   0.073648 -0.043474   0.052074 -0.028676    MT        20455   \n",
       "16790   1679   0.074760 -0.056617   0.048358 -0.006711    MT        20452   \n",
       "16791   1679   0.041097  0.002288   0.041000  0.001658    MT        20452   \n",
       "16792   1679   0.080100 -0.035367   0.063980 -0.032737    MT        20452   \n",
       "16793   1679   0.110657  0.006543   0.103295  0.039144    MT        20452   \n",
       "16794   1679   0.081000 -0.043413   0.064116 -0.023779    MT        20452   \n",
       "16795   1679   0.086994 -0.027267   0.071853 -0.040763    MT        20452   \n",
       "16796   1679   0.083120 -0.001259   0.063553 -0.053558    MT        20452   \n",
       "16797   1679   0.075053 -0.027426   0.068069 -0.015730    MT        20452   \n",
       "16798   1679   0.078307 -0.043584   0.064401  0.009219    MT        20452   \n",
       "16799   1679   0.109631 -0.064286   0.087336 -0.016088    MT        20452   \n",
       "16800   1680   0.052991  0.010389   0.051907 -0.002394    MT        20452   \n",
       "16801   1680   0.090078 -0.048593   0.072549  0.022123    MT        20452   \n",
       "16802   1680   0.055687 -0.018651   0.052186  0.005453    MT        20452   \n",
       "16803   1680   0.059363 -0.027651   0.052251  0.005406    MT        20452   \n",
       "16804   1680   0.065863 -0.010476   0.063981 -0.011607    MT        20452   \n",
       "16805   1680   0.068840 -0.010435   0.036585 -0.057373    MT        20452   \n",
       "16806   1680   0.054772  0.014326   0.051982  0.009626    MT        20452   \n",
       "16807   1680   0.106287 -0.064257   0.076155 -0.036992    MT        20452   \n",
       "16808   1680   0.066603 -0.035601   0.056274  0.001330    MT        20452   \n",
       "16809   1680   0.059607 -0.031571   0.048099 -0.015579    MT        20452   \n",
       "\n",
       "                       Timestamp  Serial No.  Comment  \n",
       "0     2019-12-13 11:51:35.120094        1065      NaN  \n",
       "1     2019-12-13 11:51:35.130094        1065      NaN  \n",
       "2     2019-12-13 11:51:35.140094        1065      NaN  \n",
       "3     2019-12-13 11:51:35.150094        1065      NaN  \n",
       "4     2019-12-13 11:51:35.160094        1065      NaN  \n",
       "5     2019-12-13 11:51:35.170094        1065      NaN  \n",
       "6     2019-12-13 11:51:35.180094        1065      NaN  \n",
       "7     2019-12-13 11:51:35.190094        1065      NaN  \n",
       "8     2019-12-13 11:51:35.200094        1065      NaN  \n",
       "9     2019-12-13 11:51:35.210094        1065      NaN  \n",
       "10    2019-12-13 11:51:35.220138        1065      NaN  \n",
       "11    2019-12-13 11:51:35.230138        1065      NaN  \n",
       "12    2019-12-13 11:51:35.240138        1065      NaN  \n",
       "13    2019-12-13 11:51:35.250138        1065      NaN  \n",
       "14    2019-12-13 11:51:35.260138        1065      NaN  \n",
       "15    2019-12-13 11:51:35.270138        1065      NaN  \n",
       "16    2019-12-13 11:51:35.280138        1065      NaN  \n",
       "17    2019-12-13 11:51:35.290138        1065      NaN  \n",
       "18    2019-12-13 11:51:35.300138        1065      NaN  \n",
       "19    2019-12-13 11:51:35.310138        1065      NaN  \n",
       "20    2019-12-13 11:51:35.520269        1065      NaN  \n",
       "21    2019-12-13 11:51:35.530269        1065      NaN  \n",
       "22    2019-12-13 11:51:35.540269        1065      NaN  \n",
       "23    2019-12-13 11:51:35.550269        1065      NaN  \n",
       "24    2019-12-13 11:51:35.560269        1065      NaN  \n",
       "25    2019-12-13 11:51:35.570269        1065      NaN  \n",
       "26    2019-12-13 11:51:35.580269        1065      NaN  \n",
       "27    2019-12-13 11:51:35.590269        1065      NaN  \n",
       "28    2019-12-13 11:51:35.600269        1065      NaN  \n",
       "29    2019-12-13 11:51:35.610269        1065      NaN  \n",
       "...                          ...         ...      ...  \n",
       "16780 2019-12-13 11:55:42.328201        1065      NaN  \n",
       "16781 2019-12-13 11:55:42.338201        1065      NaN  \n",
       "16782 2019-12-13 11:55:42.348201        1065      NaN  \n",
       "16783 2019-12-13 11:55:42.358201        1065      NaN  \n",
       "16784 2019-12-13 11:55:42.368201        1065      NaN  \n",
       "16785 2019-12-13 11:55:42.378201        1065      NaN  \n",
       "16786 2019-12-13 11:55:42.388201        1065      NaN  \n",
       "16787 2019-12-13 11:55:42.398201        1065      NaN  \n",
       "16788 2019-12-13 11:55:42.408201        1065      NaN  \n",
       "16789 2019-12-13 11:55:42.418201        1065      NaN  \n",
       "16790 2019-12-13 11:55:42.428244        1065      NaN  \n",
       "16791 2019-12-13 11:55:42.438244        1065      NaN  \n",
       "16792 2019-12-13 11:55:42.448244        1065      NaN  \n",
       "16793 2019-12-13 11:55:42.458244        1065      NaN  \n",
       "16794 2019-12-13 11:55:42.468244        1065      NaN  \n",
       "16795 2019-12-13 11:55:42.478244        1065      NaN  \n",
       "16796 2019-12-13 11:55:42.488244        1065      NaN  \n",
       "16797 2019-12-13 11:55:42.498244        1065      NaN  \n",
       "16798 2019-12-13 11:55:42.508244        1065      NaN  \n",
       "16799 2019-12-13 11:55:42.518244        1065      NaN  \n",
       "16800 2019-12-13 11:55:42.528288        1065      NaN  \n",
       "16801 2019-12-13 11:55:42.538288        1065      NaN  \n",
       "16802 2019-12-13 11:55:42.548288        1065      NaN  \n",
       "16803 2019-12-13 11:55:42.558288        1065      NaN  \n",
       "16804 2019-12-13 11:55:42.568288        1065      NaN  \n",
       "16805 2019-12-13 11:55:42.578288        1065      NaN  \n",
       "16806 2019-12-13 11:55:42.588288        1065      NaN  \n",
       "16807 2019-12-13 11:55:42.598288        1065      NaN  \n",
       "16808 2019-12-13 11:55:42.608288        1065      NaN  \n",
       "16809 2019-12-13 11:55:42.618288        1065      NaN  \n",
       "\n",
       "[16810 rows x 10 columns]"
      ]
     },
     "execution_count": 10,
     "metadata": {},
     "output_type": "execute_result"
    }
   ],
   "source": [
    "data_pos"
   ]
  }
 ],
 "metadata": {
  "kernelspec": {
   "display_name": "Python 3",
   "language": "python",
   "name": "python3"
  },
  "language_info": {
   "codemirror_mode": {
    "name": "ipython",
    "version": 3
   },
   "file_extension": ".py",
   "mimetype": "text/x-python",
   "name": "python",
   "nbconvert_exporter": "python",
   "pygments_lexer": "ipython3",
   "version": "3.7.3"
  }
 },
 "nbformat": 4,
 "nbformat_minor": 2
}

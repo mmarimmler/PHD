{
 "cells": [
  {
   "cell_type": "code",
   "execution_count": 1,
   "metadata": {},
   "outputs": [],
   "source": [
    "%load_ext autoreload\n",
    "%autoreload 2\n",
    "\n",
    "import numpy as np\n",
    "import matplotlib.pyplot as plt\n",
    "import helpers.cusplot as cplt\n",
    "import scipy.optimize as sco\n",
    "import scipy.constants as scc\n",
    "from ionoptics import geometry as geo\n",
    "from ionoptics import beamline as bl\n",
    "\n",
    "from functools import partial"
   ]
  },
  {
   "cell_type": "markdown",
   "metadata": {},
   "source": [
    "\n",
    "## constants (SI)"
   ]
  },
  {
   "cell_type": "code",
   "execution_count": null,
   "metadata": {},
   "outputs": [],
   "source": [
    "# general\n",
    "c = 299792458\n",
    "m_pr = 938.272 # MeV\n",
    "\n",
    "# kicker\n",
    "brho = 1.23 \n",
    "lgap = 0.1\n",
    "kick_l = 0.5\n",
    "N = 20\n",
    "u0 = 4*np.pi*1e-7\n",
    "\n",
    "l = 3 # dist. kicker-septum\n",
    "\n",
    "# charge distribution\n",
    "sigma = 0.015\n",
    "delta_x_max = 0.01\n",
    "\n",
    "# septum\n",
    "w = 0.005 # 5 mm thickness for DC septum (CERN paper)\n",
    "# assuming infinte extend in y (valid - 100 mm beam tube > 6 sigma)"
   ]
  },
  {
   "cell_type": "code",
   "execution_count": null,
   "metadata": {},
   "outputs": [],
   "source": [
    "# numeric integration of current fraction \n",
    "# incident on septum\n",
    "d = {}\n",
    "\n",
    "for delta_x in np.linspace(0,delta_x_max,10):\n",
    "    I = 0\n",
    "    for step in np.linspace(2*sigma-w/2, 2*sigma + w/2,10):\n",
    "        I += np.exp(-(step-delta_x)**2/(2*sigma**2))*w/10\n",
    "    \n",
    "    I_norm = 1/(np.sqrt(2*np.pi)*sigma)*I\n",
    "    \n",
    "    d[delta_x] = I_norm"
   ]
  },
  {
   "cell_type": "code",
   "execution_count": null,
   "metadata": {},
   "outputs": [],
   "source": [
    "fig = plt.figure()\n",
    "ax = fig.add_subplot(111)\n",
    "\n",
    "ax.plot(*zip(*sorted(d.items())))\n",
    "ax.set_xlabel('delta x [m]')\n",
    "ax.set_ylabel('fraction')\n",
    "\n",
    "ax.set_title('int. fraction on {} mm septum'.format(w*1e3))\n",
    "\n",
    "#convert spat. to curr_off\n",
    "def dx_to_dI(dx):\n",
    "    dThet = dx/l\n",
    "    dI = brho*lgap/(u0*kick_l*N)*dThet\n",
    "    return round(dI,3)\n",
    "\n",
    "cplt.add_axis(ax, 'x', dx_to_dI, 'delta I [A]' )\n",
    "\n",
    "plt.show()"
   ]
  },
  {
   "cell_type": "markdown",
   "metadata": {},
   "source": [
    "## el. vs. magn. field"
   ]
  },
  {
   "cell_type": "code",
   "execution_count": null,
   "metadata": {},
   "outputs": [],
   "source": [
    "# integrated B-field / E-field norm. to kick angle\n",
    "M = 1 # 1:MeV, 1e-3: keV, ...\n",
    "\n",
    "T = np.arange(0,100,10)* M# MeV\n",
    "p = np.sqrt(T**2+2*T*m_pr) # MeV\n",
    "\n",
    "mag = p*1e-3/0.3 * M\n",
    "\n",
    "el = p/m_pr*c*p*1e-3/0.3 * M\n",
    "\n",
    "ax = plt.gca()\n",
    "ax.set_xlabel(r'$E$ [MeV]')\n",
    "ax.set_xticks(T)\n",
    "ax.set_ylabel(r'$BL/\\Theta$ [Tm/rad]')\n",
    "ax.set_title('electric vs. magnetic field')\n",
    "ax1 = ax.twinx()\n",
    "ax1.set_ylabel(r'$EL/\\Theta$ [V/rad]')\n",
    "ax1.spines['right'].set_color('r')\n",
    "\n",
    "ax.plot(T,mag)\n",
    "ax1.plot(T,el, c = 'r')\n",
    "ax.legend(['int., norm. B-field'], loc = 2)\n",
    "ax1.legend(['int., norm. E-field'], loc = 4)\n",
    "\n",
    "plt.savefig('/home/marius/Jülich/Multiplexer/Plots/elvsmagn')\n",
    "plt.show()"
   ]
  },
  {
   "cell_type": "markdown",
   "metadata": {},
   "source": [
    "## beam tube induction - paper"
   ]
  },
  {
   "cell_type": "code",
   "execution_count": null,
   "metadata": {},
   "outputs": [],
   "source": [
    "def B(t,f,tau,B0):\n",
    "    w = 2*np.pi*f\n",
    "    \n",
    "    t0 = np.pi/w\n",
    "    \n",
    "    C1 = w*tau\n",
    "    \n",
    "    tleq = np.asarray([time for time in t if time <= t0])\n",
    "    tgeq = np.asarray([time for time in t if time >= t0])\n",
    "    \n",
    "    Bleq = B0*(1/np.sqrt(1+C1**2)*np.sin(w*tleq-np.arctan(w*tau))+C1/(1+C1**2)*np.exp(-tleq/tau))\n",
    "    Bgeq = B0*C1/(1+C1**2)*(1+np.exp(t0/tau))*np.exp(-tgeq/tau)\n",
    "    \n",
    "    return np.append(Bleq,Bgeq)"
   ]
  },
  {
   "cell_type": "code",
   "execution_count": null,
   "metadata": {},
   "outputs": [],
   "source": [
    "sigma = 1.33e6 # S/m\n",
    "a = 65e-3/2 # inner radius\n",
    "d = 5e-3 # beam tube thickness\n",
    "\n",
    "tau = scc.mu_0*sigma*a*d/2\n",
    "\n",
    "fig,ax = plt.subplots(5,1,figsize = (5,20))\n",
    "\n",
    "for i,f in enumerate([1e2,5e2,1e3,5e3,10e3]):\n",
    "\n",
    "    w = 2*np.pi*f\n",
    "    \n",
    "    t0 = np.pi/w\n",
    "\n",
    "    t = np.linspace(0,5*t0,1000)\n",
    "    tleq = np.asarray([time for time in t if time <= t0])\n",
    "    \n",
    "    ax[i].plot(t,B(t,f,tau,50e-3))\n",
    "    ax[i].plot(tleq,50e-3*np.sin(w*tleq))\n",
    "    ax[i].text(0,0,'{:.2e}'.format(B(t,f,tau,50e-3).max()))\n",
    "    ax[i].set_title('{:.1e}'.format(f))\n",
    "    \n",
    "\n",
    "PATH_TO_DATA = '../../Misc/'\n",
    "FILENAME = 'beam_induction_sine_circular tube_{:.2e}_{:.2e}_{:.2e}'.format(sigma,a,d)\n",
    "plt.savefig(PATH_TO_DATA + FILENAME, format = 'png', dpi=900)"
   ]
  },
  {
   "cell_type": "code",
   "execution_count": null,
   "metadata": {},
   "outputs": [],
   "source": [
    "# from paper\n",
    "t = np.linspace(0,7e-6,100)\n",
    "plt.plot(t,B(t,0.125e6,1e-6,1))"
   ]
  },
  {
   "cell_type": "markdown",
   "metadata": {},
   "source": [
    "## testing point-to-parallel w/ 7 quadrupoles (IBL - 1st section)"
   ]
  },
  {
   "cell_type": "code",
   "execution_count": 2,
   "metadata": {},
   "outputs": [],
   "source": [
    "# distances\n",
    "\n",
    "# point - to - parallel: M11 = 0, M33 = 0\n",
    "\n",
    "# l1 - L_Fe - l1 - L_Fe - l1,l3,l1 - L_Fe - l2 - L_Fe - l2 - L_Fe - l1,l3,l1 - L_Fe - l1 - L_Fe - l1\n",
    "\n",
    "L_Fe = 0.3\n",
    "l1 = 0.3\n",
    "l2 = 0.5\n",
    "l3 = 0.97\n",
    "\n",
    "# l1,l3,l1\n",
    "l4 = 2*l1+l3\n",
    "\n",
    "l5 = l1+l3\n",
    "\n",
    "#TODO: need bl functions"
   ]
  },
  {
   "cell_type": "code",
   "execution_count": 7,
   "metadata": {},
   "outputs": [],
   "source": [
    "# 7 quads Benat\n",
    "k0,k1,k2,k3 = 0.286,1.697,2.442,5.275"
   ]
  },
  {
   "cell_type": "code",
   "execution_count": 6,
   "metadata": {},
   "outputs": [],
   "source": [
    "lengths = [l1,L_Fe,l1,L_Fe,l1,l3,l1,L_Fe,l2,L_Fe,l2,L_Fe,l1,l3,l1,L_Fe,l1,L_Fe,l1]\n",
    "elements = [bl.drift,bl.qdf,bl.drift,bl.qf,bl.drift,\n",
    "            partial(bl.dipole, L_max = 0.97, alpha = 0.67, beta_s=0.18,beta_e=0.18),\n",
    "            bl.drift,bl.qdf,bl.drift,bl.qf,bl.drift,bl.qdf,bl.drift,\n",
    "            partial(bl.dipole, L_max = 0.97, alpha = 0.67, beta_s=0.18,beta_e=0.18),\n",
    "            bl.drift,bl.qf,bl.drift,bl.qdf,bl.drift]"
   ]
  },
  {
   "cell_type": "code",
   "execution_count": 4,
   "metadata": {},
   "outputs": [
    {
     "data": {
      "image/png": "[encoded data removed]",
      "text/plain": [
       "<Figure size 1080x360 with 2 Axes>"
      ]
     },
     "metadata": {
      "needs_background": "light"
     },
     "output_type": "display_data"
    }
   ],
   "source": [
    "elements = bl.eles_to_peles(elements,bl.opt_quad_mult(elements,lengths),S=True)\n",
    "bl.plot_M_vs_s(elements,lengths, figsize = (15,5))\n",
    "\n",
    "\n",
    "\n",
    "plt.show()"
   ]
  },
  {
   "cell_type": "code",
   "execution_count": 7,
   "metadata": {},
   "outputs": [
    {
     "data": {
      "text/plain": [
       "array([2.1178545 , 2.59995479, 2.21822665, 3.16598974])"
      ]
     },
     "execution_count": 7,
     "metadata": {},
     "output_type": "execute_result"
    }
   ],
   "source": [
    "bl.opt_quad_mult(elements,lengths)"
   ]
  },
  {
   "cell_type": "markdown",
   "metadata": {},
   "source": [
    "## testing point-to-parallel w/ NESP"
   ]
  },
  {
   "cell_type": "code",
   "execution_count": 2,
   "metadata": {},
   "outputs": [],
   "source": [
    "# distances\n",
    "\n",
    "# point - to - parallel: M11 = 0, M33 = 0\n",
    "\n",
    "# l1 - L_Fe - l1 - L_Fe - l1,l3,l1 - L_Fe - l2 - L_Fe - l2 - L_Fe - l1,l3 - l4 - L_Fe - l5 - L_Fe - l6\n",
    "\n",
    "L_Fe = 0.3\n",
    "l1 = 0.3\n",
    "l2 = 0.5\n",
    "l3 = 0.97\n",
    "\n",
    "l4 = 4.8\n",
    "l5 = 0.9\n",
    "l6 = 1.4+0.9"
   ]
  },
  {
   "cell_type": "code",
   "execution_count": 5,
   "metadata": {},
   "outputs": [
    {
     "data": {
      "text/plain": [
       "array([2.20181443, 1.95877208, 2.10294043, 2.03020143, 2.09390808,\n",
       "       1.82750886, 2.67880366])"
      ]
     },
     "execution_count": 5,
     "metadata": {},
     "output_type": "execute_result"
    }
   ],
   "source": [
    "lengths = [l1,L_Fe,l1,L_Fe,l1,l3,l1,L_Fe,l2,L_Fe,l2,L_Fe,l1,l3,l4,L_Fe,l5,L_Fe,l6]\n",
    "elements = [bl.drift,bl.qdf,bl.drift,bl.qf,bl.drift,\n",
    "            partial(bl.dipole, L_max = 0.97, alpha = 0.67, beta_s=0.18, beta_e=0.18),\n",
    "            bl.drift,bl.qdf,bl.drift,bl.qf,bl.drift,bl.qdf,bl.drift,\n",
    "            bl.drift,\n",
    "            bl.drift,bl.qf,bl.drift,bl.qdf,bl.drift]\n",
    "\n",
    "vals = bl.opt_quad_mult(elements,lengths,'P-to-Par',S=False)\n",
    "vals"
   ]
  },
  {
   "cell_type": "code",
   "execution_count": 6,
   "metadata": {},
   "outputs": [
    {
     "data": {
      "image/png": "[encoded data removed]",
      "text/plain": [
       "<Figure size 1080x360 with 2 Axes>"
      ]
     },
     "metadata": {
      "needs_background": "light"
     },
     "output_type": "display_data"
    }
   ],
   "source": [
    "elements = bl.eles_to_peles(elements,vals,S=False)\n",
    "bl.plot_M_vs_s(elements,lengths, figsize = (15,5))\n",
    "\n",
    "\n",
    "\n",
    "plt.show()"
   ]
  },
  {
   "cell_type": "code",
   "execution_count": null,
   "metadata": {},
   "outputs": [],
   "source": [
    "[]"
   ]
  },
  {
   "cell_type": "markdown",
   "metadata": {},
   "source": [
    "## Multiplexer geometry BK"
   ]
  },
  {
   "cell_type": "code",
   "execution_count": null,
   "metadata": {},
   "outputs": [],
   "source": [
    "x_sept = 4*7e-3\n",
    "x_at_max_prop = 0.1\n",
    "x_add = x_at_max_prop - x_sept\n",
    "l_kick = 0.5\n",
    "l_sept = 0.5\n",
    "sept_type = 'DC'\n",
    "start_kick = 0.001 # smallest kick-angle\n",
    "step_kick = 0.001 # step size kick-angle\n",
    "\n",
    "list_perm = np.linspace(0,1,1001) # range of septum anglesenvelope\n",
    "max_prop = 2\n",
    "\n",
    "ax,data = geo.plot_comb_kick_sept(x_sept, x_add, 0,0, l_kick, l_sept, sept_type, \n",
    "                        start_kick, step_kick, list_perm, max_prop, figsize = (15,5),brho=0.98)\n",
    "\n",
    "plt.show()"
   ]
  },
  {
   "cell_type": "code",
   "execution_count": null,
   "metadata": {},
   "outputs": [],
   "source": [
    "kick_d = data[0][0.3]\n",
    "\n",
    "dks = [d[1] for d in data[1] if d[0] == kick_d]\n",
    "dks_av = sum(dks)/len(dks)\n",
    "# kicker-septum\n",
    "\n",
    "\n",
    "dsf = [d[1] for d in data[2] if d[0] == kick_d]\n",
    "dsf_av = sum(dsf)/len(dsf)\n",
    "# septum - final\n",
    "\n",
    "(kick_d,dks_av,dsf_av)"
   ]
  },
  {
   "cell_type": "code",
   "execution_count": null,
   "metadata": {},
   "outputs": [],
   "source": [
    "0.032*0.98/0.5"
   ]
  },
  {
   "cell_type": "code",
   "execution_count": null,
   "metadata": {},
   "outputs": [],
   "source": []
  },
  {
   "cell_type": "code",
   "execution_count": null,
   "metadata": {},
   "outputs": [],
   "source": []
  },
  {
   "cell_type": "code",
   "execution_count": null,
   "metadata": {},
   "outputs": [],
   "source": []
  },
  {
   "cell_type": "code",
   "execution_count": null,
   "metadata": {},
   "outputs": [],
   "source": []
  },
  {
   "cell_type": "code",
   "execution_count": null,
   "metadata": {},
   "outputs": [],
   "source": []
  }
 ],
 "metadata": {
  "kernelspec": {
   "display_name": "Python 3",
   "language": "python",
   "name": "python3"
  },
  "language_info": {
   "codemirror_mode": {
    "name": "ipython",
    "version": 3
   },
   "file_extension": ".py",
   "mimetype": "text/x-python",
   "name": "python",
   "nbconvert_exporter": "python",
   "pygments_lexer": "ipython3",
   "version": "3.5.3"
  }
 },
 "nbformat": 4,
 "nbformat_minor": 2
}
